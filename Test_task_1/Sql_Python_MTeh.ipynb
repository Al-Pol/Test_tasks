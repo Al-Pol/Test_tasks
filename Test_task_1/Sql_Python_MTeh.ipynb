{
 "cells": [
  {
   "cell_type": "markdown",
   "id": "b88bf829",
   "metadata": {},
   "source": [
    "# Тестовое задание на позицию \"Аналитик данных\"."
   ]
  },
  {
   "cell_type": "markdown",
   "id": "0ff4eca3",
   "metadata": {},
   "source": [
    "## Тестовое задание SQL"
   ]
  },
  {
   "cell_type": "code",
   "execution_count": 1,
   "id": "4b159b00",
   "metadata": {},
   "outputs": [
    {
     "data": {
      "text/plain": [
       "'3.39.3'"
      ]
     },
     "execution_count": 1,
     "metadata": {},
     "output_type": "execute_result"
    }
   ],
   "source": [
    "# Импорт библиотек\n",
    "import pandas as pd\n",
    "import sqlite3\n",
    "sqlite3.sqlite_version"
   ]
  },
  {
   "cell_type": "code",
   "execution_count": 2,
   "id": "ffecb5bb",
   "metadata": {},
   "outputs": [],
   "source": [
    "# Подключение к файлу базы данных с именем “db”\n",
    "con1 = sqlite3.connect('db1')"
   ]
  },
  {
   "cell_type": "code",
   "execution_count": 3,
   "id": "6fa9bc6a",
   "metadata": {},
   "outputs": [
    {
     "data": {
      "text/html": [
       "<div>\n",
       "<style scoped>\n",
       "    .dataframe tbody tr th:only-of-type {\n",
       "        vertical-align: middle;\n",
       "    }\n",
       "\n",
       "    .dataframe tbody tr th {\n",
       "        vertical-align: top;\n",
       "    }\n",
       "\n",
       "    .dataframe thead th {\n",
       "        text-align: right;\n",
       "    }\n",
       "</style>\n",
       "<table border=\"1\" class=\"dataframe\">\n",
       "  <thead>\n",
       "    <tr style=\"text-align: right;\">\n",
       "      <th></th>\n",
       "      <th>ID_Dish</th>\n",
       "      <th>Name</th>\n",
       "      <th>Group_name</th>\n",
       "      <th>Price</th>\n",
       "    </tr>\n",
       "  </thead>\n",
       "  <tbody>\n",
       "    <tr>\n",
       "      <th>0</th>\n",
       "      <td>1</td>\n",
       "      <td>Салат Цезарь</td>\n",
       "      <td>Салаты</td>\n",
       "      <td>400</td>\n",
       "    </tr>\n",
       "    <tr>\n",
       "      <th>1</th>\n",
       "      <td>2</td>\n",
       "      <td>Салат Греческий</td>\n",
       "      <td>Салаты</td>\n",
       "      <td>300</td>\n",
       "    </tr>\n",
       "    <tr>\n",
       "      <th>2</th>\n",
       "      <td>3</td>\n",
       "      <td>Овощной суп</td>\n",
       "      <td>Супы</td>\n",
       "      <td>200</td>\n",
       "    </tr>\n",
       "    <tr>\n",
       "      <th>3</th>\n",
       "      <td>4</td>\n",
       "      <td>Суп куриный</td>\n",
       "      <td>Супы</td>\n",
       "      <td>250</td>\n",
       "    </tr>\n",
       "    <tr>\n",
       "      <th>4</th>\n",
       "      <td>5</td>\n",
       "      <td>Суп Харчо</td>\n",
       "      <td>Супы</td>\n",
       "      <td>350</td>\n",
       "    </tr>\n",
       "    <tr>\n",
       "      <th>5</th>\n",
       "      <td>6</td>\n",
       "      <td>Спагетти карбонара</td>\n",
       "      <td>Основное блюдо</td>\n",
       "      <td>400</td>\n",
       "    </tr>\n",
       "    <tr>\n",
       "      <th>6</th>\n",
       "      <td>7</td>\n",
       "      <td>Мясная лазанья</td>\n",
       "      <td>Основное блюдо</td>\n",
       "      <td>350</td>\n",
       "    </tr>\n",
       "    <tr>\n",
       "      <th>7</th>\n",
       "      <td>8</td>\n",
       "      <td>Пирожочек с капустой</td>\n",
       "      <td>Десерты</td>\n",
       "      <td>50</td>\n",
       "    </tr>\n",
       "    <tr>\n",
       "      <th>8</th>\n",
       "      <td>9</td>\n",
       "      <td>Чизкейк</td>\n",
       "      <td>Десерты</td>\n",
       "      <td>250</td>\n",
       "    </tr>\n",
       "    <tr>\n",
       "      <th>9</th>\n",
       "      <td>10</td>\n",
       "      <td>Капучино</td>\n",
       "      <td>Напитки</td>\n",
       "      <td>150</td>\n",
       "    </tr>\n",
       "    <tr>\n",
       "      <th>10</th>\n",
       "      <td>11</td>\n",
       "      <td>Nescafe 3 in 1</td>\n",
       "      <td>Напитки</td>\n",
       "      <td>50</td>\n",
       "    </tr>\n",
       "    <tr>\n",
       "      <th>11</th>\n",
       "      <td>12</td>\n",
       "      <td>Чай вкусный</td>\n",
       "      <td>Напитки</td>\n",
       "      <td>100</td>\n",
       "    </tr>\n",
       "  </tbody>\n",
       "</table>\n",
       "</div>"
      ],
      "text/plain": [
       "    ID_Dish                  Name      Group_name  Price\n",
       "0         1          Салат Цезарь          Салаты    400\n",
       "1         2       Салат Греческий          Салаты    300\n",
       "2         3           Овощной суп            Супы    200\n",
       "3         4           Суп куриный            Супы    250\n",
       "4         5             Суп Харчо            Супы    350\n",
       "5         6    Спагетти карбонара  Основное блюдо    400\n",
       "6         7        Мясная лазанья  Основное блюдо    350\n",
       "7         8  Пирожочек с капустой         Десерты     50\n",
       "8         9               Чизкейк         Десерты    250\n",
       "9        10              Капучино         Напитки    150\n",
       "10       11        Nescafe 3 in 1         Напитки     50\n",
       "11       12           Чай вкусный         Напитки    100"
      ]
     },
     "execution_count": 3,
     "metadata": {},
     "output_type": "execute_result"
    }
   ],
   "source": [
    "# Создание таблицы MainMenu\n",
    "data_main = {'ID_Dish': [1, 2, 3, 4, 5, 6, 7, 8, 9, 10, 11, 12],\n",
    "             'Name': ['Салат Цезарь',\n",
    "                      'Салат Греческий',\n",
    "                      'Овощной суп',\n",
    "                      'Суп куриный', \n",
    "                      'Суп Харчо',\n",
    "                      'Спагетти карбонара',\n",
    "                      'Мясная лазанья',\n",
    "                      'Пирожочек с капустой',\n",
    "                      'Чизкейк',\n",
    "                      'Капучино',\n",
    "                      'Nescafe 3 in 1',\n",
    "                      'Чай вкусный'],\n",
    "             'Group_name': ['Салаты',\n",
    "                       'Салаты',\n",
    "                       'Супы',\n",
    "                       'Супы',\n",
    "                       'Супы', \n",
    "                       'Основное блюдо',\n",
    "                       'Основное блюдо',\n",
    "                       'Десерты',\n",
    "                       'Десерты',\n",
    "                       'Напитки',\n",
    "                       'Напитки',\n",
    "                       'Напитки'],  \n",
    "             'Price': [400, 300, 200, 250, 350, 400, 350, 50, 250, 150, 50, 100]}\n",
    "\n",
    "MainMenu = pd.DataFrame(data_main)\n",
    "MainMenu"
   ]
  },
  {
   "cell_type": "code",
   "execution_count": 4,
   "id": "768649d9",
   "metadata": {
    "scrolled": true
   },
   "outputs": [
    {
     "data": {
      "text/html": [
       "<div>\n",
       "<style scoped>\n",
       "    .dataframe tbody tr th:only-of-type {\n",
       "        vertical-align: middle;\n",
       "    }\n",
       "\n",
       "    .dataframe tbody tr th {\n",
       "        vertical-align: top;\n",
       "    }\n",
       "\n",
       "    .dataframe thead th {\n",
       "        text-align: right;\n",
       "    }\n",
       "</style>\n",
       "<table border=\"1\" class=\"dataframe\">\n",
       "  <thead>\n",
       "    <tr style=\"text-align: right;\">\n",
       "      <th></th>\n",
       "      <th>ID_Dish</th>\n",
       "      <th>Name</th>\n",
       "      <th>Group_name</th>\n",
       "      <th>Price</th>\n",
       "    </tr>\n",
       "  </thead>\n",
       "  <tbody>\n",
       "    <tr>\n",
       "      <th>0</th>\n",
       "      <td>13</td>\n",
       "      <td>Винегрет</td>\n",
       "      <td>Салаты</td>\n",
       "      <td>200</td>\n",
       "    </tr>\n",
       "    <tr>\n",
       "      <th>1</th>\n",
       "      <td>2</td>\n",
       "      <td>Салат Греческий</td>\n",
       "      <td>Салаты</td>\n",
       "      <td>300</td>\n",
       "    </tr>\n",
       "    <tr>\n",
       "      <th>2</th>\n",
       "      <td>3</td>\n",
       "      <td>Овощной суп</td>\n",
       "      <td>Супы</td>\n",
       "      <td>200</td>\n",
       "    </tr>\n",
       "    <tr>\n",
       "      <th>3</th>\n",
       "      <td>14</td>\n",
       "      <td>Гречневая лапша с овощами</td>\n",
       "      <td>Основное блюдо</td>\n",
       "      <td>350</td>\n",
       "    </tr>\n",
       "    <tr>\n",
       "      <th>4</th>\n",
       "      <td>8</td>\n",
       "      <td>Пирожочек с капустой</td>\n",
       "      <td>Десерты</td>\n",
       "      <td>50</td>\n",
       "    </tr>\n",
       "    <tr>\n",
       "      <th>5</th>\n",
       "      <td>10</td>\n",
       "      <td>Капучино</td>\n",
       "      <td>Напитки</td>\n",
       "      <td>150</td>\n",
       "    </tr>\n",
       "    <tr>\n",
       "      <th>6</th>\n",
       "      <td>15</td>\n",
       "      <td>Апельсиновый сок (Fresh)</td>\n",
       "      <td>Напитки</td>\n",
       "      <td>200</td>\n",
       "    </tr>\n",
       "    <tr>\n",
       "      <th>7</th>\n",
       "      <td>12</td>\n",
       "      <td>Чай вкусный</td>\n",
       "      <td>Напитки</td>\n",
       "      <td>100</td>\n",
       "    </tr>\n",
       "  </tbody>\n",
       "</table>\n",
       "</div>"
      ],
      "text/plain": [
       "   ID_Dish                       Name      Group_name  Price\n",
       "0       13                   Винегрет          Салаты    200\n",
       "1        2            Салат Греческий          Салаты    300\n",
       "2        3                Овощной суп            Супы    200\n",
       "3       14  Гречневая лапша с овощами  Основное блюдо    350\n",
       "4        8       Пирожочек с капустой         Десерты     50\n",
       "5       10                   Капучино         Напитки    150\n",
       "6       15   Апельсиновый сок (Fresh)         Напитки    200\n",
       "7       12                Чай вкусный         Напитки    100"
      ]
     },
     "execution_count": 4,
     "metadata": {},
     "output_type": "execute_result"
    }
   ],
   "source": [
    "# Создание таблицы VegMenu\n",
    "data_veg = {'ID_Dish': [13, 2, 3, 14, 8, 10, 15, 12],\n",
    "             'Name': ['Винегрет',\n",
    "                      'Салат Греческий',\n",
    "                      'Овощной суп',\n",
    "                      'Гречневая лапша с овощами',\n",
    "                      'Пирожочек с капустой',\n",
    "                      'Капучино',\n",
    "                      'Апельсиновый сок (Fresh)',\n",
    "                      'Чай вкусный'],\n",
    "             'Group_name': ['Салаты',\n",
    "                       'Салаты',\n",
    "                       'Супы',\n",
    "                       'Основное блюдо', \n",
    "                       'Десерты',\n",
    "                       'Напитки',\n",
    "                       'Напитки',\n",
    "                       'Напитки'],  \n",
    "             'Price': [200, 300, 200, 350, 50, 150, 200, 100]}\n",
    "\n",
    "VegMenu = pd.DataFrame(data_veg)\n",
    "VegMenu"
   ]
  },
  {
   "cell_type": "markdown",
   "id": "cfa51b15",
   "metadata": {},
   "source": [
    "**Описание столбцов таблиц:**  \n",
    "`ID_Dish` – Номер блюда,  \n",
    "`Name` – Название блюда,  \n",
    "`Group` – Раздел меню,  \n",
    "`Priсe` – Цена  "
   ]
  },
  {
   "cell_type": "code",
   "execution_count": 5,
   "id": "b4d4aff5",
   "metadata": {},
   "outputs": [],
   "source": [
    "# Подключение к файлу базы данных с именем “db”\n",
    "con = sqlite3.connect('db')"
   ]
  },
  {
   "cell_type": "code",
   "execution_count": 6,
   "id": "1988e631",
   "metadata": {},
   "outputs": [
    {
     "data": {
      "text/plain": [
       "8"
      ]
     },
     "execution_count": 6,
     "metadata": {},
     "output_type": "execute_result"
    }
   ],
   "source": [
    "# Запись исходных таблиц в базу SQL\n",
    "MainMenu.to_sql('MainMenu', con, index=False, if_exists='replace')\n",
    "VegMenu.to_sql('VegMenu', con, index=False, if_exists='replace')"
   ]
  },
  {
   "cell_type": "markdown",
   "id": "f53e128b",
   "metadata": {},
   "source": [
    "### **Задание**    \n",
    "Напишите результат следующих запросов:     \n",
    "\n",
    "a)  \n",
    "`Select MainMenu.Name, VegMenu.Name    \n",
    "From MainMenu Inner join VegMenu    \n",
    "on (MainMenu.ID_Dish = VegMenu.ID_Dish)`  \n",
    "\n",
    "b)   \n",
    "`Select MainMenu.Name, VegMenu.Name    \n",
    "From MainMenu Left join VegMenu    \n",
    "on (MainMenu.ID_Dish = VegMenu.ID_Dish)`  \n",
    "\n",
    "c)   \n",
    "`Select MainMenu.Name, VegMenu.Name    \n",
    "From MainMenu Full outer join VegMenu    \n",
    "on (MainMenu.ID_Dish = VegMenu.ID_Dish)`\n"
   ]
  },
  {
   "cell_type": "markdown",
   "id": "9b5d421c",
   "metadata": {},
   "source": [
    "**Решение:**"
   ]
  },
  {
   "cell_type": "markdown",
   "id": "60fc67ff",
   "metadata": {},
   "source": [
    "a) Оператор внутреннего соединения `(INNER JOIN)` в SQL используется для объединения данных из двух или более таблиц, возвращая только те строки, которые присутствуют в обеих таблицах. Он создаёт результирующую таблицу, содержащую все строки из первой таблицы, для которых есть соответствующие строки в другой таблице, на основе общего значения в указанных столбцах `(MainMenu.ID_Dish = VegMenu.ID_Dish)`."
   ]
  },
  {
   "cell_type": "code",
   "execution_count": 7,
   "id": "c0b4ef39",
   "metadata": {},
   "outputs": [],
   "source": [
    "# Выполнение SQL запроса\n",
    "sql_1 = '''\n",
    "SELECT MainMenu.Name AS NameMainMenu,\n",
    "       VegMenu.Name AS VegMainMenu\n",
    "FROM MainMenu\n",
    "INNER JOIN VegMenu ON (MainMenu.ID_Dish = VegMenu.ID_Dish)       \n",
    "'''"
   ]
  },
  {
   "cell_type": "code",
   "execution_count": 8,
   "id": "f015c4ca",
   "metadata": {},
   "outputs": [
    {
     "data": {
      "text/html": [
       "<div>\n",
       "<style scoped>\n",
       "    .dataframe tbody tr th:only-of-type {\n",
       "        vertical-align: middle;\n",
       "    }\n",
       "\n",
       "    .dataframe tbody tr th {\n",
       "        vertical-align: top;\n",
       "    }\n",
       "\n",
       "    .dataframe thead th {\n",
       "        text-align: right;\n",
       "    }\n",
       "</style>\n",
       "<table border=\"1\" class=\"dataframe\">\n",
       "  <thead>\n",
       "    <tr style=\"text-align: right;\">\n",
       "      <th></th>\n",
       "      <th>NameMainMenu</th>\n",
       "      <th>VegMainMenu</th>\n",
       "    </tr>\n",
       "  </thead>\n",
       "  <tbody>\n",
       "    <tr>\n",
       "      <th>0</th>\n",
       "      <td>Салат Греческий</td>\n",
       "      <td>Салат Греческий</td>\n",
       "    </tr>\n",
       "    <tr>\n",
       "      <th>1</th>\n",
       "      <td>Овощной суп</td>\n",
       "      <td>Овощной суп</td>\n",
       "    </tr>\n",
       "    <tr>\n",
       "      <th>2</th>\n",
       "      <td>Пирожочек с капустой</td>\n",
       "      <td>Пирожочек с капустой</td>\n",
       "    </tr>\n",
       "    <tr>\n",
       "      <th>3</th>\n",
       "      <td>Капучино</td>\n",
       "      <td>Капучино</td>\n",
       "    </tr>\n",
       "    <tr>\n",
       "      <th>4</th>\n",
       "      <td>Чай вкусный</td>\n",
       "      <td>Чай вкусный</td>\n",
       "    </tr>\n",
       "  </tbody>\n",
       "</table>\n",
       "</div>"
      ],
      "text/plain": [
       "           NameMainMenu           VegMainMenu\n",
       "0       Салат Греческий       Салат Греческий\n",
       "1           Овощной суп           Овощной суп\n",
       "2  Пирожочек с капустой  Пирожочек с капустой\n",
       "3              Капучино              Капучино\n",
       "4           Чай вкусный           Чай вкусный"
      ]
     },
     "execution_count": 8,
     "metadata": {},
     "output_type": "execute_result"
    }
   ],
   "source": [
    "# Загрузка результатов запроса в pandas DataFrame\n",
    "pd.read_sql(sql_1, con)"
   ]
  },
  {
   "cell_type": "markdown",
   "id": "af0a7565",
   "metadata": {},
   "source": [
    "б) Оператор левого соединения `(LEFT JOIN)` в SQL также используется для объединения данных из двух таблиц, но возвращает все строки из левой таблицы, даже если нет соответствующих строк в правой таблице. Он дополняет результирующую таблицу строками из левой таблицы, для которых нет совпадающих строк в правой таблице, заполняя недостающие столбцы из правой таблицы значениями по умолчанию."
   ]
  },
  {
   "cell_type": "code",
   "execution_count": 9,
   "id": "c379cdc1",
   "metadata": {},
   "outputs": [],
   "source": [
    "# Выполнение SQL запроса\n",
    "sql_2 = '''\n",
    "SELECT MainMenu.Name AS NameMainMenu,\n",
    "       VegMenu.Name AS VegMainMenu\n",
    "FROM MainMenu \n",
    "LEFT JOIN VegMenu ON (MainMenu.ID_Dish = VegMenu.ID_Dish)      \n",
    "'''"
   ]
  },
  {
   "cell_type": "code",
   "execution_count": 10,
   "id": "1756678f",
   "metadata": {},
   "outputs": [
    {
     "data": {
      "text/html": [
       "<div>\n",
       "<style scoped>\n",
       "    .dataframe tbody tr th:only-of-type {\n",
       "        vertical-align: middle;\n",
       "    }\n",
       "\n",
       "    .dataframe tbody tr th {\n",
       "        vertical-align: top;\n",
       "    }\n",
       "\n",
       "    .dataframe thead th {\n",
       "        text-align: right;\n",
       "    }\n",
       "</style>\n",
       "<table border=\"1\" class=\"dataframe\">\n",
       "  <thead>\n",
       "    <tr style=\"text-align: right;\">\n",
       "      <th></th>\n",
       "      <th>NameMainMenu</th>\n",
       "      <th>VegMainMenu</th>\n",
       "    </tr>\n",
       "  </thead>\n",
       "  <tbody>\n",
       "    <tr>\n",
       "      <th>0</th>\n",
       "      <td>Салат Цезарь</td>\n",
       "      <td>None</td>\n",
       "    </tr>\n",
       "    <tr>\n",
       "      <th>1</th>\n",
       "      <td>Салат Греческий</td>\n",
       "      <td>Салат Греческий</td>\n",
       "    </tr>\n",
       "    <tr>\n",
       "      <th>2</th>\n",
       "      <td>Овощной суп</td>\n",
       "      <td>Овощной суп</td>\n",
       "    </tr>\n",
       "    <tr>\n",
       "      <th>3</th>\n",
       "      <td>Суп куриный</td>\n",
       "      <td>None</td>\n",
       "    </tr>\n",
       "    <tr>\n",
       "      <th>4</th>\n",
       "      <td>Суп Харчо</td>\n",
       "      <td>None</td>\n",
       "    </tr>\n",
       "    <tr>\n",
       "      <th>5</th>\n",
       "      <td>Спагетти карбонара</td>\n",
       "      <td>None</td>\n",
       "    </tr>\n",
       "    <tr>\n",
       "      <th>6</th>\n",
       "      <td>Мясная лазанья</td>\n",
       "      <td>None</td>\n",
       "    </tr>\n",
       "    <tr>\n",
       "      <th>7</th>\n",
       "      <td>Пирожочек с капустой</td>\n",
       "      <td>Пирожочек с капустой</td>\n",
       "    </tr>\n",
       "    <tr>\n",
       "      <th>8</th>\n",
       "      <td>Чизкейк</td>\n",
       "      <td>None</td>\n",
       "    </tr>\n",
       "    <tr>\n",
       "      <th>9</th>\n",
       "      <td>Капучино</td>\n",
       "      <td>Капучино</td>\n",
       "    </tr>\n",
       "    <tr>\n",
       "      <th>10</th>\n",
       "      <td>Nescafe 3 in 1</td>\n",
       "      <td>None</td>\n",
       "    </tr>\n",
       "    <tr>\n",
       "      <th>11</th>\n",
       "      <td>Чай вкусный</td>\n",
       "      <td>Чай вкусный</td>\n",
       "    </tr>\n",
       "  </tbody>\n",
       "</table>\n",
       "</div>"
      ],
      "text/plain": [
       "            NameMainMenu           VegMainMenu\n",
       "0           Салат Цезарь                  None\n",
       "1        Салат Греческий       Салат Греческий\n",
       "2            Овощной суп           Овощной суп\n",
       "3            Суп куриный                  None\n",
       "4              Суп Харчо                  None\n",
       "5     Спагетти карбонара                  None\n",
       "6         Мясная лазанья                  None\n",
       "7   Пирожочек с капустой  Пирожочек с капустой\n",
       "8                Чизкейк                  None\n",
       "9               Капучино              Капучино\n",
       "10        Nescafe 3 in 1                  None\n",
       "11           Чай вкусный           Чай вкусный"
      ]
     },
     "execution_count": 10,
     "metadata": {},
     "output_type": "execute_result"
    }
   ],
   "source": [
    "# Загрузка результатов запроса в pandas DataFrame\n",
    "pd.read_sql(sql_2, con)"
   ]
  },
  {
   "cell_type": "markdown",
   "id": "4d2f0718",
   "metadata": {},
   "source": [
    "в) Оператор полного внешнего соединения `(FULL OUTER JOIN)` объединяет данные из двух таблиц на основе совпадающих значений в указанных столбцах `(MainMenu.ID_Dish = VegMenu.ID_Dish)` , возвращая все строки из обеих таблиц. Он возвращает все строки из каждой таблицы, даже если нет соответствия в другой таблице."
   ]
  },
  {
   "cell_type": "code",
   "execution_count": 11,
   "id": "27ab82ec",
   "metadata": {},
   "outputs": [],
   "source": [
    "# Выполнение SQL запроса\n",
    "sql_3 = '''\n",
    "SELECT MainMenu.Name AS NameMainMenu,\n",
    "       VegMenu.Name AS VegMainMenu\n",
    "FROM MainMenu \n",
    "FULL OUTER JOIN VegMenu ON (MainMenu.ID_Dish = VegMenu.ID_Dish)      \n",
    "'''"
   ]
  },
  {
   "cell_type": "code",
   "execution_count": 12,
   "id": "d96069bc",
   "metadata": {
    "scrolled": false
   },
   "outputs": [
    {
     "data": {
      "text/html": [
       "<div>\n",
       "<style scoped>\n",
       "    .dataframe tbody tr th:only-of-type {\n",
       "        vertical-align: middle;\n",
       "    }\n",
       "\n",
       "    .dataframe tbody tr th {\n",
       "        vertical-align: top;\n",
       "    }\n",
       "\n",
       "    .dataframe thead th {\n",
       "        text-align: right;\n",
       "    }\n",
       "</style>\n",
       "<table border=\"1\" class=\"dataframe\">\n",
       "  <thead>\n",
       "    <tr style=\"text-align: right;\">\n",
       "      <th></th>\n",
       "      <th>NameMainMenu</th>\n",
       "      <th>VegMainMenu</th>\n",
       "    </tr>\n",
       "  </thead>\n",
       "  <tbody>\n",
       "    <tr>\n",
       "      <th>0</th>\n",
       "      <td>Салат Цезарь</td>\n",
       "      <td>None</td>\n",
       "    </tr>\n",
       "    <tr>\n",
       "      <th>1</th>\n",
       "      <td>Салат Греческий</td>\n",
       "      <td>Салат Греческий</td>\n",
       "    </tr>\n",
       "    <tr>\n",
       "      <th>2</th>\n",
       "      <td>Овощной суп</td>\n",
       "      <td>Овощной суп</td>\n",
       "    </tr>\n",
       "    <tr>\n",
       "      <th>3</th>\n",
       "      <td>Суп куриный</td>\n",
       "      <td>None</td>\n",
       "    </tr>\n",
       "    <tr>\n",
       "      <th>4</th>\n",
       "      <td>Суп Харчо</td>\n",
       "      <td>None</td>\n",
       "    </tr>\n",
       "    <tr>\n",
       "      <th>5</th>\n",
       "      <td>Спагетти карбонара</td>\n",
       "      <td>None</td>\n",
       "    </tr>\n",
       "    <tr>\n",
       "      <th>6</th>\n",
       "      <td>Мясная лазанья</td>\n",
       "      <td>None</td>\n",
       "    </tr>\n",
       "    <tr>\n",
       "      <th>7</th>\n",
       "      <td>Пирожочек с капустой</td>\n",
       "      <td>Пирожочек с капустой</td>\n",
       "    </tr>\n",
       "    <tr>\n",
       "      <th>8</th>\n",
       "      <td>Чизкейк</td>\n",
       "      <td>None</td>\n",
       "    </tr>\n",
       "    <tr>\n",
       "      <th>9</th>\n",
       "      <td>Капучино</td>\n",
       "      <td>Капучино</td>\n",
       "    </tr>\n",
       "    <tr>\n",
       "      <th>10</th>\n",
       "      <td>Nescafe 3 in 1</td>\n",
       "      <td>None</td>\n",
       "    </tr>\n",
       "    <tr>\n",
       "      <th>11</th>\n",
       "      <td>Чай вкусный</td>\n",
       "      <td>Чай вкусный</td>\n",
       "    </tr>\n",
       "    <tr>\n",
       "      <th>12</th>\n",
       "      <td>None</td>\n",
       "      <td>Винегрет</td>\n",
       "    </tr>\n",
       "    <tr>\n",
       "      <th>13</th>\n",
       "      <td>None</td>\n",
       "      <td>Гречневая лапша с овощами</td>\n",
       "    </tr>\n",
       "    <tr>\n",
       "      <th>14</th>\n",
       "      <td>None</td>\n",
       "      <td>Апельсиновый сок (Fresh)</td>\n",
       "    </tr>\n",
       "  </tbody>\n",
       "</table>\n",
       "</div>"
      ],
      "text/plain": [
       "            NameMainMenu                VegMainMenu\n",
       "0           Салат Цезарь                       None\n",
       "1        Салат Греческий            Салат Греческий\n",
       "2            Овощной суп                Овощной суп\n",
       "3            Суп куриный                       None\n",
       "4              Суп Харчо                       None\n",
       "5     Спагетти карбонара                       None\n",
       "6         Мясная лазанья                       None\n",
       "7   Пирожочек с капустой       Пирожочек с капустой\n",
       "8                Чизкейк                       None\n",
       "9               Капучино                   Капучино\n",
       "10        Nescafe 3 in 1                       None\n",
       "11           Чай вкусный                Чай вкусный\n",
       "12                  None                   Винегрет\n",
       "13                  None  Гречневая лапша с овощами\n",
       "14                  None   Апельсиновый сок (Fresh)"
      ]
     },
     "execution_count": 12,
     "metadata": {},
     "output_type": "execute_result"
    }
   ],
   "source": [
    "# Загрузка результатов запроса в pandas DataFrame\n",
    "pd.read_sql(sql_3, con)"
   ]
  },
  {
   "cell_type": "markdown",
   "id": "b89f1d28",
   "metadata": {},
   "source": [
    "### **Задание**    \n",
    "Бедный студент хочет посчитать минимальную стоимость ужина из салата, основного блюда и напитка.   \n",
    "a) Напишите запрос, который возвращает минимальную стоимость блюда по разделам меню, которые смотрит студент.   \n",
    "b) Выведите запросом сумму заказа, по списку из пункта a.   "
   ]
  },
  {
   "cell_type": "markdown",
   "id": "7b237f1b",
   "metadata": {},
   "source": [
    "**Решение:**"
   ]
  },
  {
   "cell_type": "markdown",
   "id": "497244ad",
   "metadata": {},
   "source": [
    "a) Из условия задачи не ясно из какого меню `(MainMenu или VegMenu)` студент хочет узнать минимальную стоимость ужина. Поэтому объединим 2 меню с помощью метода `UNION` (совпадающие позиции из меню не будут повторяться) и в дальнейшем будем обращаться к объединённой тоблице с помощью подзапроса. \n",
    "В основном запросе выпольним фильтрацию по искомым разделам меню и выведем минимальную стоимость блюда по этим разделам."
   ]
  },
  {
   "cell_type": "code",
   "execution_count": 13,
   "id": "36924fc0",
   "metadata": {},
   "outputs": [],
   "source": [
    "# Выполнение SQL запроса\n",
    "sql_4 = '''\n",
    "SELECT Group_name,\n",
    "       MIN(Price) \n",
    "FROM (SELECT *     \n",
    "      FROM MainMenu \n",
    "      UNION\n",
    "      SELECT *     \n",
    "      FROM VegMenu) AS t\n",
    "WHERE Group_name IN ('Салаты', 'Основное блюдо', 'Напитки')  \n",
    "GROUP BY Group_name\n",
    "'''"
   ]
  },
  {
   "cell_type": "code",
   "execution_count": 14,
   "id": "e34937b2",
   "metadata": {},
   "outputs": [
    {
     "data": {
      "text/html": [
       "<div>\n",
       "<style scoped>\n",
       "    .dataframe tbody tr th:only-of-type {\n",
       "        vertical-align: middle;\n",
       "    }\n",
       "\n",
       "    .dataframe tbody tr th {\n",
       "        vertical-align: top;\n",
       "    }\n",
       "\n",
       "    .dataframe thead th {\n",
       "        text-align: right;\n",
       "    }\n",
       "</style>\n",
       "<table border=\"1\" class=\"dataframe\">\n",
       "  <thead>\n",
       "    <tr style=\"text-align: right;\">\n",
       "      <th></th>\n",
       "      <th>Group_name</th>\n",
       "      <th>MIN(Price)</th>\n",
       "    </tr>\n",
       "  </thead>\n",
       "  <tbody>\n",
       "    <tr>\n",
       "      <th>0</th>\n",
       "      <td>Напитки</td>\n",
       "      <td>50</td>\n",
       "    </tr>\n",
       "    <tr>\n",
       "      <th>1</th>\n",
       "      <td>Основное блюдо</td>\n",
       "      <td>350</td>\n",
       "    </tr>\n",
       "    <tr>\n",
       "      <th>2</th>\n",
       "      <td>Салаты</td>\n",
       "      <td>200</td>\n",
       "    </tr>\n",
       "  </tbody>\n",
       "</table>\n",
       "</div>"
      ],
      "text/plain": [
       "       Group_name  MIN(Price)\n",
       "0         Напитки          50\n",
       "1  Основное блюдо         350\n",
       "2          Салаты         200"
      ]
     },
     "execution_count": 14,
     "metadata": {},
     "output_type": "execute_result"
    }
   ],
   "source": [
    "# Загрузка результатов запроса в pandas DataFrame\n",
    "pd.read_sql(sql_4, con)"
   ]
  },
  {
   "cell_type": "markdown",
   "id": "86e7abb7",
   "metadata": {},
   "source": [
    "б) Для вывода минимальной суммы заказа будем использовать весь запрос из **пункта а** в качестве подзапроса, после чего воспользуемся агрегирующей функцией `SUM`."
   ]
  },
  {
   "cell_type": "code",
   "execution_count": 15,
   "id": "c3573acc",
   "metadata": {},
   "outputs": [],
   "source": [
    "# Выполнение SQL запроса\n",
    "sql_5 = '''\n",
    "SELECT SUM(min_price)\n",
    "FROM (SELECT Group_name,\n",
    "             MIN(Price) AS min_price\n",
    "      FROM (SELECT *     \n",
    "            FROM MainMenu \n",
    "            UNION\n",
    "            SELECT *     \n",
    "            FROM VegMenu) AS t\n",
    "      WHERE Group_name IN ('Салаты', 'Основное блюдо', 'Напитки')  \n",
    "      GROUP BY Group_name)\n",
    "'''"
   ]
  },
  {
   "cell_type": "code",
   "execution_count": 16,
   "id": "ad7404d8",
   "metadata": {},
   "outputs": [
    {
     "data": {
      "text/html": [
       "<div>\n",
       "<style scoped>\n",
       "    .dataframe tbody tr th:only-of-type {\n",
       "        vertical-align: middle;\n",
       "    }\n",
       "\n",
       "    .dataframe tbody tr th {\n",
       "        vertical-align: top;\n",
       "    }\n",
       "\n",
       "    .dataframe thead th {\n",
       "        text-align: right;\n",
       "    }\n",
       "</style>\n",
       "<table border=\"1\" class=\"dataframe\">\n",
       "  <thead>\n",
       "    <tr style=\"text-align: right;\">\n",
       "      <th></th>\n",
       "      <th>SUM(min_price)</th>\n",
       "    </tr>\n",
       "  </thead>\n",
       "  <tbody>\n",
       "    <tr>\n",
       "      <th>0</th>\n",
       "      <td>600</td>\n",
       "    </tr>\n",
       "  </tbody>\n",
       "</table>\n",
       "</div>"
      ],
      "text/plain": [
       "   SUM(min_price)\n",
       "0             600"
      ]
     },
     "execution_count": 16,
     "metadata": {},
     "output_type": "execute_result"
    }
   ],
   "source": [
    "# Загрузка результатов запроса в pandas DataFrame\n",
    "pd.read_sql(sql_5, con)"
   ]
  },
  {
   "cell_type": "markdown",
   "id": "6817d590",
   "metadata": {},
   "source": [
    "### **Задание**   \n",
    "Хитрый официант хочет предложить посетителю по самому дорогому блюду из каждого раздела Главного меню. Каким запросом можно вывести список самых дорогих блюд по разделам на основании таблицы `MainMenu`? Результат в виде таблицы со столбцами `Name`, `Group`, `Price`."
   ]
  },
  {
   "cell_type": "markdown",
   "id": "3ef8e887",
   "metadata": {},
   "source": [
    "**Решение:**\n",
    "В данном запросе выполним группировку блюд из основного меню по его разделам, после чего воспользуемся агрегирующей функцией `MAX` для поиска максимальной цены и выведем необходимы поля."
   ]
  },
  {
   "cell_type": "code",
   "execution_count": 17,
   "id": "981654c9",
   "metadata": {},
   "outputs": [],
   "source": [
    "# Выполнение SQL запроса\n",
    "sql_6 = '''\n",
    "SELECT Name,\n",
    "       Group_name,\n",
    "       MAX(Price)\n",
    "FROM MainMenu \n",
    "GROUP BY Group_name\n",
    "'''"
   ]
  },
  {
   "cell_type": "code",
   "execution_count": 18,
   "id": "305fe1b6",
   "metadata": {
    "scrolled": true
   },
   "outputs": [
    {
     "data": {
      "text/html": [
       "<div>\n",
       "<style scoped>\n",
       "    .dataframe tbody tr th:only-of-type {\n",
       "        vertical-align: middle;\n",
       "    }\n",
       "\n",
       "    .dataframe tbody tr th {\n",
       "        vertical-align: top;\n",
       "    }\n",
       "\n",
       "    .dataframe thead th {\n",
       "        text-align: right;\n",
       "    }\n",
       "</style>\n",
       "<table border=\"1\" class=\"dataframe\">\n",
       "  <thead>\n",
       "    <tr style=\"text-align: right;\">\n",
       "      <th></th>\n",
       "      <th>Name</th>\n",
       "      <th>Group_name</th>\n",
       "      <th>MAX(Price)</th>\n",
       "    </tr>\n",
       "  </thead>\n",
       "  <tbody>\n",
       "    <tr>\n",
       "      <th>0</th>\n",
       "      <td>Чизкейк</td>\n",
       "      <td>Десерты</td>\n",
       "      <td>250</td>\n",
       "    </tr>\n",
       "    <tr>\n",
       "      <th>1</th>\n",
       "      <td>Капучино</td>\n",
       "      <td>Напитки</td>\n",
       "      <td>150</td>\n",
       "    </tr>\n",
       "    <tr>\n",
       "      <th>2</th>\n",
       "      <td>Спагетти карбонара</td>\n",
       "      <td>Основное блюдо</td>\n",
       "      <td>400</td>\n",
       "    </tr>\n",
       "    <tr>\n",
       "      <th>3</th>\n",
       "      <td>Салат Цезарь</td>\n",
       "      <td>Салаты</td>\n",
       "      <td>400</td>\n",
       "    </tr>\n",
       "    <tr>\n",
       "      <th>4</th>\n",
       "      <td>Суп Харчо</td>\n",
       "      <td>Супы</td>\n",
       "      <td>350</td>\n",
       "    </tr>\n",
       "  </tbody>\n",
       "</table>\n",
       "</div>"
      ],
      "text/plain": [
       "                 Name      Group_name  MAX(Price)\n",
       "0             Чизкейк         Десерты         250\n",
       "1            Капучино         Напитки         150\n",
       "2  Спагетти карбонара  Основное блюдо         400\n",
       "3        Салат Цезарь          Салаты         400\n",
       "4           Суп Харчо            Супы         350"
      ]
     },
     "execution_count": 18,
     "metadata": {},
     "output_type": "execute_result"
    }
   ],
   "source": [
    "# Загрузка результатов запроса в pandas DataFrame\n",
    "pd.read_sql(sql_6, con)"
   ]
  },
  {
   "cell_type": "markdown",
   "id": "9e556425",
   "metadata": {},
   "source": [
    "### **Задание**   \n",
    "Шеф-повар хочет изменить Вегетарианское меню так, чтобы все блюда в Главном и Вегетарианском меню были разными. Напишите запрос, которым можно вывести все блюда из таблицы `VegMenu`, которых нет в таблице `MainMenu`."
   ]
  },
  {
   "cell_type": "markdown",
   "id": "38392bb7",
   "metadata": {},
   "source": [
    "**Решение:**\n",
    "Для этой задачи объедим таблицу `VegMenu` с таблицей MainMenu с помощью `LEFT JOIN`. Таким образом в столбцах из таблицы `MainMenu` появятся пропуски для тех строк из таблицы `VegMenu` которых не в таблице `MainMenu`. После этого выполним фильтрацию с помощью `WHER`E оставим только строки без пропусков, и затем выведем необходимые поля."
   ]
  },
  {
   "cell_type": "code",
   "execution_count": 19,
   "id": "095c6866",
   "metadata": {},
   "outputs": [],
   "source": [
    "# Выполнение SQL запроса\n",
    "sql_7 = '''\n",
    "SELECT v.ID_Dish,\n",
    "       v.Name,\n",
    "       v.Group_name,\n",
    "       v.Price\n",
    "FROM VegMenu as v\n",
    "LEFT JOIN MainMenu as m ON (v.ID_Dish = m.ID_Dish)\n",
    "--WHERE m.ID_Dish is NULL\n",
    "'''"
   ]
  },
  {
   "cell_type": "code",
   "execution_count": 20,
   "id": "4474a8b6",
   "metadata": {},
   "outputs": [
    {
     "data": {
      "text/html": [
       "<div>\n",
       "<style scoped>\n",
       "    .dataframe tbody tr th:only-of-type {\n",
       "        vertical-align: middle;\n",
       "    }\n",
       "\n",
       "    .dataframe tbody tr th {\n",
       "        vertical-align: top;\n",
       "    }\n",
       "\n",
       "    .dataframe thead th {\n",
       "        text-align: right;\n",
       "    }\n",
       "</style>\n",
       "<table border=\"1\" class=\"dataframe\">\n",
       "  <thead>\n",
       "    <tr style=\"text-align: right;\">\n",
       "      <th></th>\n",
       "      <th>ID_Dish</th>\n",
       "      <th>Name</th>\n",
       "      <th>Group_name</th>\n",
       "      <th>Price</th>\n",
       "    </tr>\n",
       "  </thead>\n",
       "  <tbody>\n",
       "    <tr>\n",
       "      <th>0</th>\n",
       "      <td>13</td>\n",
       "      <td>Винегрет</td>\n",
       "      <td>Салаты</td>\n",
       "      <td>200</td>\n",
       "    </tr>\n",
       "    <tr>\n",
       "      <th>1</th>\n",
       "      <td>2</td>\n",
       "      <td>Салат Греческий</td>\n",
       "      <td>Салаты</td>\n",
       "      <td>300</td>\n",
       "    </tr>\n",
       "    <tr>\n",
       "      <th>2</th>\n",
       "      <td>3</td>\n",
       "      <td>Овощной суп</td>\n",
       "      <td>Супы</td>\n",
       "      <td>200</td>\n",
       "    </tr>\n",
       "    <tr>\n",
       "      <th>3</th>\n",
       "      <td>14</td>\n",
       "      <td>Гречневая лапша с овощами</td>\n",
       "      <td>Основное блюдо</td>\n",
       "      <td>350</td>\n",
       "    </tr>\n",
       "    <tr>\n",
       "      <th>4</th>\n",
       "      <td>8</td>\n",
       "      <td>Пирожочек с капустой</td>\n",
       "      <td>Десерты</td>\n",
       "      <td>50</td>\n",
       "    </tr>\n",
       "    <tr>\n",
       "      <th>5</th>\n",
       "      <td>10</td>\n",
       "      <td>Капучино</td>\n",
       "      <td>Напитки</td>\n",
       "      <td>150</td>\n",
       "    </tr>\n",
       "    <tr>\n",
       "      <th>6</th>\n",
       "      <td>15</td>\n",
       "      <td>Апельсиновый сок (Fresh)</td>\n",
       "      <td>Напитки</td>\n",
       "      <td>200</td>\n",
       "    </tr>\n",
       "    <tr>\n",
       "      <th>7</th>\n",
       "      <td>12</td>\n",
       "      <td>Чай вкусный</td>\n",
       "      <td>Напитки</td>\n",
       "      <td>100</td>\n",
       "    </tr>\n",
       "  </tbody>\n",
       "</table>\n",
       "</div>"
      ],
      "text/plain": [
       "   ID_Dish                       Name      Group_name  Price\n",
       "0       13                   Винегрет          Салаты    200\n",
       "1        2            Салат Греческий          Салаты    300\n",
       "2        3                Овощной суп            Супы    200\n",
       "3       14  Гречневая лапша с овощами  Основное блюдо    350\n",
       "4        8       Пирожочек с капустой         Десерты     50\n",
       "5       10                   Капучино         Напитки    150\n",
       "6       15   Апельсиновый сок (Fresh)         Напитки    200\n",
       "7       12                Чай вкусный         Напитки    100"
      ]
     },
     "execution_count": 20,
     "metadata": {},
     "output_type": "execute_result"
    }
   ],
   "source": [
    "# Загрузка результатов запроса в pandas DataFrame\n",
    "pd.read_sql(sql_7, con)"
   ]
  },
  {
   "cell_type": "markdown",
   "id": "35cd7c2d",
   "metadata": {},
   "source": [
    "## Тестовое задание Python\n",
    "\n",
    "Дана строка длины N, где N - целое число, степень 4. Элементами строки являются латинские маленькие буквы от \"a\" до \"z\".\n",
    "Строка может быть записана в виде пирамиды.\n",
    "Например, строка \"a\" может быть записана в виде:\n",
    "```\n",
    "   ^\n",
    "  /a\\\n",
    " *---*\n",
    " ```\n",
    "строка \"abcd\" в виде:\n",
    "```\n",
    "     ^\n",
    "    /d\\\n",
    "   *---*\n",
    "  /c\\b/a\\\n",
    " *---*---*\n",
    " ```\n",
    "строка \"abcdefghijklmnop\" в виде:\n",
    "```\n",
    "         ^\n",
    "        /p\\\n",
    "       *---*\n",
    "      /o\\n/m\\\n",
    "     *---*---*\n",
    "    /l\\k/j\\i/h\\\n",
    "   *---*---*---*\n",
    "  /g\\f/e\\d/c\\b/a\\\n",
    " *---*---*---*---*\n",
    " ```\n",
    "и так далее.\n",
    "Пирамида размером более 4 элементов может быть представлена в виде нескольких пирамид по 4 элемента.\n",
    "Например, пирамида:\n",
    "```\n",
    "         ^\n",
    "        /p\\\n",
    "       *---*\n",
    "      /o\\n/m\\\n",
    "     *---*---*\n",
    "    /l\\k/j\\i/h\\\n",
    "   *---*---*---*\n",
    "  /g\\f/e\\d/c\\b/a\\\n",
    " *---*---*---*---*\n",
    " ```\n",
    "может быть представлена в виде 4х пирамид:\n",
    "```\n",
    "              ^\n",
    "             /p\\\n",
    "            *---*\n",
    "           /o\\n/m\\\n",
    "          *---*---*\n",
    "       \n",
    "     *    *---*---*    *\n",
    "    /l\\    \\k/j\\i/    /h\\\n",
    "   *---*    *---*    *---*\n",
    "  /g\\f/e\\    \\d/    /c\\b/a\\\n",
    " *---*---*    *    *---*---*\n",
    " ```\n",
    "Пирамида из 64 элементов разбивается на\n",
    "```\n",
    "                     ^\n",
    "                    / \\\n",
    "                   *---*\n",
    "                  / \\ / \\\n",
    "                 *---*---*\n",
    "               * *---*---* *\n",
    "              / \\ \\ / \\ / / \\\n",
    "             *---* *---* *---*\n",
    "            / \\ / \\ \\ / / \\ / \\\n",
    "           *---*---* * *---*---*\n",
    "         * *---*---* * *---*---* *\n",
    "        / \\ \\ / \\ / / \\ \\ / \\ / / \\\n",
    "       *---* *---* *---* *---* *---*\n",
    "      / \\ / \\ \\ / / \\ / \\ \\ / / \\ / \\\n",
    "     *---*---* * *---*---* * *---*---*\n",
    "    * *---*---* * *---*---* * *---*---* *\n",
    "   / \\ \\ / \\ / / \\ \\ / \\ / / \\ \\ / \\ / / \\\n",
    "  *---* *---* *---* *---* *---* *---* *---*\n",
    " / \\ / \\ \\ / / \\ / \\ \\ / / \\ / \\ \\ / / \\ / \\\n",
    "*---*---* * *---*---* * *---*---* * *---*---*\n",
    "```\n",
    "И так далее.\n",
    "Если все элементы внутри пирамиды из 4-х элементов одинаковые, то пирамида может быть сжата до одного элемента:\n",
    "```\n",
    "     ^\n",
    "    /a\\      ^\n",
    "   *---* -> /a\\\n",
    "  /a\\a/a\\  *---*\n",
    " *---*---*\n",
    " ```\n",
    "Пирамида размером более 4-х элементов может быть сжата, если сжимаются все 4-х элементные пирамиды, из которых она состоит.\n",
    "```\n",
    "        ^\n",
    "       /a\\\n",
    "      *---*           ^\n",
    "     /a\\a/a\\         /a\\\n",
    "    *---*---* ->    *---*\n",
    "   /b\\c/c\\c/d\\     /b\\c/d\\\n",
    "  *---*---*---*   *---*---*\n",
    " /b\\b/b\\c/d\\d/d\\\n",
    "*---*---*---*---*\n",
    "```\n",
    "К полученной пирамиде можно снова попробовать применить операцию сжатия.   \n",
    "\n",
    "\n",
    "Необходимо написать программу на языке программирования Python, сжимающую пирамиду до самого маленького размера и вывести ее строковое представление.    \n",
    "Исходная строка находится в файле input.txt    \n",
    "Результирующую строку необходимо записать в файл output.txt    \n",
    "\n",
    "Критерии оценки:   \n",
    "1. Программа должна работать правильно.    \n",
    "2. Код должен легко читаться и обслуживаться.    \n",
    "3. Код не должен включать в себе лишнюю функциональность, а делать только то, что требуется в задаче.    \n",
    "4. Код должен быть оформлен по PEP8.    \n",
    "5. В реализации должно быть использовано ООП.    \n",
    "\n",
    "**Пример 1:**   \n",
    "`input.txt`   \n",
    "a   \n",
    "`output.txt`    \n",
    "a    \n",
    "\n",
    "**Пример 2:**   \n",
    "`input.txt`   \n",
    "abcd   \n",
    "`output.txt`   \n",
    "abcd   \n",
    "\n",
    "**Пример 3:**   \n",
    "`input.txt`   \n",
    "aaabcccabbbcdddd   \n",
    "`output.txt`    \n",
    "abcd    \n",
    "\n",
    "**Пример 4:**   \n",
    "`input.txt`     \n",
    "aaaaaaabcccccccaaaaabbbcccccaaabbbbbcccabbbbbbbcdddddddddddddddd      \n",
    "`output.txt`     \n",
    "abcd    "
   ]
  },
  {
   "cell_type": "markdown",
   "id": "9963908a",
   "metadata": {},
   "source": [
    "**Решение (исследовательская часть):**\n"
   ]
  },
  {
   "cell_type": "code",
   "execution_count": 21,
   "id": "98b6dad8",
   "metadata": {},
   "outputs": [],
   "source": [
    "# Импорт итератора\n",
    "from itertools import chain"
   ]
  },
  {
   "cell_type": "code",
   "execution_count": 22,
   "id": "48fd1618",
   "metadata": {},
   "outputs": [],
   "source": [
    "# Класс для записи строки в файл и её чтения из этого же файла\n",
    "class SomeClass:\n",
    "    def __init__(self, file_name, text):\n",
    "        self.file_name = file_name\n",
    "        self.text = text\n",
    "    \n",
    "    def write_file(self):\n",
    "        with open(self.file_name, 'w') as f:\n",
    "            f.write(self.text)\n",
    "        return f'Произошла запись строки в файл: {self.file_name}'\n",
    "    \n",
    "    def open_file(self):\n",
    "        with open(self.file_name, 'r') as f:\n",
    "            string = f.read()\n",
    "        return string"
   ]
  },
  {
   "cell_type": "code",
   "execution_count": 23,
   "id": "5f1bf9dc",
   "metadata": {},
   "outputs": [
    {
     "data": {
      "text/plain": [
       "'Произошла запись строки в файл: input4.txt'"
      ]
     },
     "execution_count": 23,
     "metadata": {},
     "output_type": "execute_result"
    }
   ],
   "source": [
    "# Строки для теста\n",
    "text1 = 'a'\n",
    "text2 = 'abcd'\n",
    "text3 = 'aaabcccabbbcdddd'\n",
    "text4 = 'aaaaaaabcccccccaaaaabbbcccccaaabbbbbcccabbbbbbbcdddddddddddddddd'\n",
    "\n",
    "# Вызов класса и запись с помощью него строки в файл\n",
    "my_object1 = SomeClass('input1.txt', text1)\n",
    "my_object1.write_file()\n",
    "my_object2 = SomeClass('input2.txt', text2)\n",
    "my_object2.write_file()\n",
    "my_object3 = SomeClass('input3.txt', text3)\n",
    "my_object3.write_file()\n",
    "my_object4 = SomeClass('input4.txt', text4)\n",
    "my_object4.write_file()"
   ]
  },
  {
   "cell_type": "code",
   "execution_count": 24,
   "id": "e14f6752",
   "metadata": {},
   "outputs": [
    {
     "name": "stdout",
     "output_type": "stream",
     "text": [
      "a\n",
      "abcd\n",
      "aaabcccabbbcdddd\n",
      "aaaaaaabcccccccaaaaabbbcccccaaabbbbbcccabbbbbbbcdddddddddddddddd\n"
     ]
    }
   ],
   "source": [
    "# Чтение строки из файла\n",
    "string1 = my_object1.open_file()\n",
    "string2 = my_object2.open_file()\n",
    "string3 = my_object3.open_file()\n",
    "string4 = my_object4.open_file()\n",
    "print(string1)\n",
    "print(string2)\n",
    "print(string3)\n",
    "print(string4)"
   ]
  },
  {
   "cell_type": "code",
   "execution_count": 25,
   "id": "fe5027fc",
   "metadata": {},
   "outputs": [],
   "source": [
    "string = string4"
   ]
  },
  {
   "cell_type": "code",
   "execution_count": 26,
   "id": "fae79e2c",
   "metadata": {},
   "outputs": [
    {
     "name": "stdout",
     "output_type": "stream",
     "text": [
      "Длина строки является степенью числа 4\n"
     ]
    }
   ],
   "source": [
    "# Проверка на то, является ли длина строки числом степенью 4\n",
    "num = len(string)\n",
    "while num % 4 == 0 and num != 0:\n",
    "    num //= 4\n",
    "if num == 1:\n",
    "    print('Длина строки является степенью числа 4')   \n",
    "else:\n",
    "    print('длина строки не является степенью числа 4')"
   ]
  },
  {
   "cell_type": "code",
   "execution_count": 27,
   "id": "e76973e9",
   "metadata": {},
   "outputs": [
    {
     "data": {
      "text/html": [
       "<div>\n",
       "<style scoped>\n",
       "    .dataframe tbody tr th:only-of-type {\n",
       "        vertical-align: middle;\n",
       "    }\n",
       "\n",
       "    .dataframe tbody tr th {\n",
       "        vertical-align: top;\n",
       "    }\n",
       "\n",
       "    .dataframe thead th {\n",
       "        text-align: right;\n",
       "    }\n",
       "</style>\n",
       "<table border=\"1\" class=\"dataframe\">\n",
       "  <thead>\n",
       "    <tr style=\"text-align: right;\">\n",
       "      <th></th>\n",
       "      <th>Количество пирамид на уровне</th>\n",
       "    </tr>\n",
       "  </thead>\n",
       "  <tbody>\n",
       "    <tr>\n",
       "      <th>1</th>\n",
       "      <td>1</td>\n",
       "    </tr>\n",
       "    <tr>\n",
       "      <th>2</th>\n",
       "      <td>3</td>\n",
       "    </tr>\n",
       "    <tr>\n",
       "      <th>3</th>\n",
       "      <td>5</td>\n",
       "    </tr>\n",
       "    <tr>\n",
       "      <th>4</th>\n",
       "      <td>7</td>\n",
       "    </tr>\n",
       "  </tbody>\n",
       "</table>\n",
       "</div>"
      ],
      "text/plain": [
       "   Количество пирамид на уровне\n",
       "1                             1\n",
       "2                             3\n",
       "3                             5\n",
       "4                             7"
      ]
     },
     "execution_count": 27,
     "metadata": {},
     "output_type": "execute_result"
    }
   ],
   "source": [
    "# Рассчёт количества пирамид на каждом уровне итоговой пирамиды\n",
    "sum_string = 1\n",
    "level_p = {}\n",
    "level_p[1] = 1\n",
    "n = 2\n",
    "while sum_string != len(string) / 4:\n",
    "    level_p[n] = level_p[n-1] + 2\n",
    "    sum_string += level_p[n]\n",
    "    n += 1\n",
    "pd.DataFrame(level_p, index=['Количество пирамид на уровне']).T"
   ]
  },
  {
   "cell_type": "code",
   "execution_count": 28,
   "id": "e320a276",
   "metadata": {},
   "outputs": [
    {
     "data": {
      "text/plain": [
       "4"
      ]
     },
     "execution_count": 28,
     "metadata": {},
     "output_type": "execute_result"
    }
   ],
   "source": [
    "# Количество уровней пирамид\n",
    "p_max = max(level_p.keys())\n",
    "p_max"
   ]
  },
  {
   "cell_type": "code",
   "execution_count": 29,
   "id": "a444c63e",
   "metadata": {},
   "outputs": [
    {
     "data": {
      "text/plain": [
       "[['aaaa', 'aaaa', 'aaaa', 'bbbb', 'cccc', 'cccc', 'cccc'],\n",
       " ['aaaa', 'bbbb', 'bbbb', 'bbbb', 'cccc'],\n",
       " ['dddd', 'dddd', 'dddd'],\n",
       " ['dddd']]"
      ]
     },
     "execution_count": 29,
     "metadata": {},
     "output_type": "execute_result"
    }
   ],
   "source": [
    "# Разделение исходной строки на пирамиды согласно условию задачи\n",
    "p_all = []\n",
    "for l in range(1, p_max+1)[::-1]:\n",
    "    p = []\n",
    "    for i in range(level_p[l]):\n",
    "        if i % 2 == 0:\n",
    "            p.append(string[i*2: i*2+3] + string[i*2+2*level_p[l]+1])\n",
    "        else:\n",
    "            p.append(string[i*2+1] + string[i*2+2*level_p[l]: i*2+2*level_p[l]+3])\n",
    "    p_all.append(p)\n",
    "    string = string[i*2+2*level_p[l]+2:]\n",
    "p_all"
   ]
  },
  {
   "cell_type": "code",
   "execution_count": 30,
   "id": "00e48283",
   "metadata": {},
   "outputs": [
    {
     "data": {
      "text/plain": [
       "16"
      ]
     },
     "execution_count": 30,
     "metadata": {},
     "output_type": "execute_result"
    }
   ],
   "source": [
    "# Трансформация вложенных списков в общий\n",
    "p_all = list(chain.from_iterable(p_all))\n",
    "len(p_all)"
   ]
  },
  {
   "cell_type": "code",
   "execution_count": 31,
   "id": "f4c4052a",
   "metadata": {},
   "outputs": [
    {
     "data": {
      "text/plain": [
       "'aaabcccabbbcdddd'"
      ]
     },
     "execution_count": 31,
     "metadata": {},
     "output_type": "execute_result"
    }
   ],
   "source": [
    "# Сжатие пирамид и вывод получившегося результата в виде строки\n",
    "p_new = []\n",
    "for p in p_all:\n",
    "    if p[0] == p[1] == p[2] == p[3]:\n",
    "        p_new.append(p[0])\n",
    "if (len(p_new) % 4 == 0) and len(p_new) > 0:\n",
    "    output = ''.join(p_new)\n",
    "else:\n",
    "    output = ''.join(p_all)\n",
    "output"
   ]
  },
  {
   "cell_type": "markdown",
   "id": "79c3a833",
   "metadata": {},
   "source": [
    "**Замечание:**      \n",
    "Это была исследовательская часть решения задачи.    \n",
    "Далее, для решения задачи обернём алгоритмы в функции и для сжатия пирамид будем рекурсивно их вызывать."
   ]
  },
  {
   "cell_type": "markdown",
   "id": "816c46ee",
   "metadata": {},
   "source": [
    "**Решение (с помощью функций):**\n"
   ]
  },
  {
   "cell_type": "code",
   "execution_count": 32,
   "id": "210d4ea3",
   "metadata": {},
   "outputs": [],
   "source": [
    "# Проверка на то, является ли длина строки числом степенью 4 и рассчёт количества пирамид на каждом уровне итоговой пирамиды\n",
    "def check_level(text):\n",
    "    num = len(text)\n",
    "    while num % 4 == 0 and num != 0:\n",
    "        num //= 4\n",
    "    if num != 1:\n",
    "        print('Длина строки не является степенью числа 4') \n",
    "    else:\n",
    "        sum_string = 1\n",
    "        level_p = {}\n",
    "        level_p[1] = 1\n",
    "        n = 2\n",
    "        while sum_string != len(text) / 4:\n",
    "            level_p[n] = level_p[n-1] + 2\n",
    "            sum_string += level_p[n]\n",
    "            n += 1\n",
    "        return level_p"
   ]
  },
  {
   "cell_type": "code",
   "execution_count": 33,
   "id": "69d51421",
   "metadata": {},
   "outputs": [],
   "source": [
    "# Разделение исходной строки на пирамиды согласно условию задачи\n",
    "def bild_piramids(text):\n",
    "    level_p = check_level(text)\n",
    "    p_max = max(level_p.keys())\n",
    "    p_all = []\n",
    "    for l in range(1, p_max+1)[::-1]:\n",
    "        p = []\n",
    "        for i in range(level_p[l]):\n",
    "            if i % 2 == 0:\n",
    "                p.append(text[i*2: i*2+3] + text[i*2+2*level_p[l]+1])\n",
    "            else:\n",
    "                p.append(text[i*2+1] + text[i*2+2*level_p[l]: i*2+2*level_p[l]+3])\n",
    "        p_all.append(p)\n",
    "        text = text[i*2+2*level_p[l]+2:]\n",
    "    p_all = list(chain.from_iterable(p_all))\n",
    "    return p_all"
   ]
  },
  {
   "cell_type": "code",
   "execution_count": 34,
   "id": "c241e84f",
   "metadata": {},
   "outputs": [],
   "source": [
    "# Сжатие пирамид и вывод получившегося результата в виде строки\n",
    "def comp_piramids(text):\n",
    "    if len(text) == 1:\n",
    "        return text\n",
    "    p_new = []\n",
    "    p_all = bild_piramids(text)\n",
    "    for p in p_all:\n",
    "        if p[0] == p[1] == p[2] == p[3]:\n",
    "            p_new.append(p[0])\n",
    "    if (len(p_new) % 4 == 0) and len(p_new) > 0:\n",
    "        output = ''.join(p_new)\n",
    "        return comp_piramids(output)\n",
    "    else:\n",
    "        output = ''.join(p_all)\n",
    "        return output"
   ]
  },
  {
   "cell_type": "code",
   "execution_count": 35,
   "id": "214638cb",
   "metadata": {},
   "outputs": [
    {
     "name": "stdout",
     "output_type": "stream",
     "text": [
      "a\n",
      "abcd\n",
      "abcd\n",
      "abcd\n"
     ]
    }
   ],
   "source": [
    "print(comp_piramids(string1))\n",
    "print(comp_piramids(string2))\n",
    "print(comp_piramids(string3))\n",
    "print(comp_piramids(string4))"
   ]
  },
  {
   "cell_type": "markdown",
   "id": "8571b861",
   "metadata": {},
   "source": [
    "**Решение (с помощью ООП):**\n"
   ]
  },
  {
   "cell_type": "code",
   "execution_count": 36,
   "id": "960b6c25",
   "metadata": {},
   "outputs": [],
   "source": [
    "class PyramidCompression:\n",
    "    \n",
    "    def __init__(self, text):\n",
    "        self.text = text\n",
    "    \n",
    "    # Проверка на то, является ли длина строки числом степенью 4 и рассчёт количества пирамид на каждом уровне итоговой пирамиды\n",
    "    def check_level(self):\n",
    "        num = len(self.text)\n",
    "        while num % 4 == 0 and num != 0:\n",
    "            num //= 4\n",
    "        if num != 1:\n",
    "            print('Длина строки не является степенью числа 4') \n",
    "            return \n",
    "        else:\n",
    "            sum_string = 1\n",
    "            level_p = {}\n",
    "            level_p[1] = 1\n",
    "            n = 2\n",
    "            while sum_string != len(self.text) / 4:\n",
    "                level_p[n] = level_p[n-1] + 2\n",
    "                sum_string += level_p[n]\n",
    "                n += 1\n",
    "            return level_p\n",
    "        \n",
    "    # Разделение исходной строки на пирамиды согласно условию задачи\n",
    "    def bild_piramids(self):\n",
    "        level_p = self.check_level()\n",
    "        p_max = max(level_p.keys())\n",
    "        p_all = []\n",
    "        for l in range(1, p_max+1)[::-1]:\n",
    "            p = []\n",
    "            for i in range(level_p[l]):\n",
    "                if i % 2 == 0:\n",
    "                    p.append(self.text[i*2: i*2+3] + self.text[i*2+2*level_p[l]+1])\n",
    "                else:\n",
    "                    p.append(self.text[i*2+1] + self.text[i*2+2*level_p[l]: i*2+2*level_p[l]+3])\n",
    "            p_all.append(p)\n",
    "            self.text = self.text[i*2+2*level_p[l]+2:]\n",
    "        p_all = list(chain.from_iterable(p_all))\n",
    "        return p_all\n",
    "    \n",
    "    # Сжатие пирамид и вывод получившегося результата в виде строки\n",
    "    def comp_piramids(self, t=None):\n",
    "        self.t = t\n",
    "        if len(self.text) == 1:\n",
    "            return self.text\n",
    "        p_new = []\n",
    "        p_all = self.bild_piramids()\n",
    "        for p in p_all:\n",
    "            if p[0] == p[1] == p[2] == p[3]:\n",
    "                p_new.append(p[0])\n",
    "        if (len(p_new) % 4 == 0) and (len(p_new) > 0):\n",
    "            output = ''.join(p_new)\n",
    "            self.text = output\n",
    "            return self.comp_piramids()\n",
    "        else:\n",
    "            output = ''.join(p_all)\n",
    "            return output"
   ]
  },
  {
   "cell_type": "code",
   "execution_count": 37,
   "id": "ca6161d8",
   "metadata": {},
   "outputs": [
    {
     "data": {
      "text/plain": [
       "'a'"
      ]
     },
     "execution_count": 37,
     "metadata": {},
     "output_type": "execute_result"
    }
   ],
   "source": [
    "# Проверка 1 строки\n",
    "comp_str1 = PyramidCompression(string1)\n",
    "out_1 = comp_str1.comp_piramids()\n",
    "output1 = SomeClass('output1.txt', out_1)\n",
    "output1.write_file()\n",
    "out_1"
   ]
  },
  {
   "cell_type": "code",
   "execution_count": 38,
   "id": "955c646c",
   "metadata": {},
   "outputs": [
    {
     "data": {
      "text/plain": [
       "'abcd'"
      ]
     },
     "execution_count": 38,
     "metadata": {},
     "output_type": "execute_result"
    }
   ],
   "source": [
    "# Проверка 2 строки\n",
    "comp_str2 = PyramidCompression(string2)\n",
    "out_2 = comp_str2.comp_piramids()\n",
    "output2 = SomeClass('output2.txt', out_2)\n",
    "output2.write_file()\n",
    "out_2"
   ]
  },
  {
   "cell_type": "code",
   "execution_count": 39,
   "id": "62062c71",
   "metadata": {},
   "outputs": [
    {
     "data": {
      "text/plain": [
       "'abcd'"
      ]
     },
     "execution_count": 39,
     "metadata": {},
     "output_type": "execute_result"
    }
   ],
   "source": [
    "# Проверка 3 строки\n",
    "comp_str3 = PyramidCompression(string3)\n",
    "out_3 = comp_str3.comp_piramids()\n",
    "output3 = SomeClass('output3.txt', out_3)\n",
    "output3.write_file()\n",
    "out_3"
   ]
  },
  {
   "cell_type": "code",
   "execution_count": 40,
   "id": "dc4643a9",
   "metadata": {},
   "outputs": [
    {
     "data": {
      "text/plain": [
       "'abcd'"
      ]
     },
     "execution_count": 40,
     "metadata": {},
     "output_type": "execute_result"
    }
   ],
   "source": [
    "# Проверка 4 строки\n",
    "comp_str4 = PyramidCompression(string4)\n",
    "out_4 = comp_str4.comp_piramids()\n",
    "output4 = SomeClass('output4.txt', out_4)\n",
    "output4.write_file()\n",
    "out_4"
   ]
  },
  {
   "cell_type": "markdown",
   "id": "572185ea",
   "metadata": {},
   "source": [
    "**Вывод:**      \n",
    "Основные преобразования данный класс выполняет. Однако, некоторые проверки не учтены. Например, если на вход поступает строка не являющаяся степенью числа 4, то вознмкает ошибка.\n",
    "\n",
    "Также для выполнения записи строк в файл и чтения строк из файла использовался отдельный класс `SomeClass`. Возможно, я не до конца понял задание и нужно было \"засунуть\" функциональность этого класса в итоговый класс `PyramidCompression`."
   ]
  }
 ],
 "metadata": {
  "kernelspec": {
   "display_name": "Python 3 (ipykernel)",
   "language": "python",
   "name": "python3"
  },
  "language_info": {
   "codemirror_mode": {
    "name": "ipython",
    "version": 3
   },
   "file_extension": ".py",
   "mimetype": "text/x-python",
   "name": "python",
   "nbconvert_exporter": "python",
   "pygments_lexer": "ipython3",
   "version": "3.9.13"
  },
  "toc": {
   "base_numbering": 1,
   "nav_menu": {},
   "number_sections": true,
   "sideBar": true,
   "skip_h1_title": true,
   "title_cell": "Table of Contents",
   "title_sidebar": "Contents",
   "toc_cell": false,
   "toc_position": {
    "height": "calc(100% - 180px)",
    "left": "10px",
    "top": "150px",
    "width": "165px"
   },
   "toc_section_display": true,
   "toc_window_display": true
  }
 },
 "nbformat": 4,
 "nbformat_minor": 5
}
