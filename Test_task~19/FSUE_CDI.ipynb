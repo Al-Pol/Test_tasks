{
 "cells": [
  {
   "cell_type": "markdown",
   "id": "4fb33c11",
   "metadata": {
    "toc": true
   },
   "source": [
    "<h1>Table of Contents<span class=\"tocSkip\"></span></h1>\n",
    "<div class=\"toc\"><ul class=\"toc-item\"><li><span><a href=\"#Общая-информация.\" data-toc-modified-id=\"Общая-информация.-1\"><span class=\"toc-item-num\">1&nbsp;&nbsp;</span>Общая информация.</a></span><ul class=\"toc-item\"><li><span><a href=\"#Считываем-данные-из-CSV-файла-в-датафрейм-и-сохраняем-в-переменную-df.\" data-toc-modified-id=\"Считываем-данные-из-CSV-файла-в-датафрейм-и-сохраняем-в-переменную-df.-1.1\"><span class=\"toc-item-num\">1.1&nbsp;&nbsp;</span>Считываем данные из CSV-файла в датафрейм и сохраняем в переменную df.</a></span></li><li><span><a href=\"#Выводим-таблицу-на-экран.\" data-toc-modified-id=\"Выводим-таблицу-на-экран.-1.2\"><span class=\"toc-item-num\">1.2&nbsp;&nbsp;</span>Выводим таблицу на экран.</a></span></li><li><span><a href=\"#Выводим-основную-информацию-о-датафрейме-с-помощью-метода-info().\" data-toc-modified-id=\"Выводим-основную-информацию-о-датафрейме-с-помощью-метода-info().-1.3\"><span class=\"toc-item-num\">1.3&nbsp;&nbsp;</span>Выводим основную информацию о датафрейме с помощью метода info().</a></span></li></ul></li><li><span><a href=\"#Фильтр-данных-по-массе-выше-2000-кг-за-единицу.\" data-toc-modified-id=\"Фильтр-данных-по-массе-выше-2000-кг-за-единицу.-2\"><span class=\"toc-item-num\">2&nbsp;&nbsp;</span>Фильтр данных по массе выше 2000 кг за единицу.</a></span></li><li><span><a href=\"#Создание-столбца-с-классификацией-станков-по-группам.\" data-toc-modified-id=\"Создание-столбца-с-классификацией-станков-по-группам.-3\"><span class=\"toc-item-num\">3&nbsp;&nbsp;</span>Создание столбца с классификацией станков по группам.</a></span><ul class=\"toc-item\"><li><span><a href=\"#Первичная-классификация-по-группам-станков.\" data-toc-modified-id=\"Первичная-классификация-по-группам-станков.-3.1\"><span class=\"toc-item-num\">3.1&nbsp;&nbsp;</span>Первичная классификация по группам станков.</a></span></li><li><span><a href=\"#Уточнение-классификации.\" data-toc-modified-id=\"Уточнение-классификации.-3.2\"><span class=\"toc-item-num\">3.2&nbsp;&nbsp;</span>Уточнение классификации.</a></span></li><li><span><a href=\"#Создание-словаря.\" data-toc-modified-id=\"Создание-словаря.-3.3\"><span class=\"toc-item-num\">3.3&nbsp;&nbsp;</span>Создание словаря.</a></span></li><li><span><a href=\"#Загрузка-словаря.\" data-toc-modified-id=\"Загрузка-словаря.-3.4\"><span class=\"toc-item-num\">3.4&nbsp;&nbsp;</span>Загрузка словаря.</a></span></li></ul></li><li><span><a href=\"#Сводная-таблица-по-количеству-каждой-группы-станков.\" data-toc-modified-id=\"Сводная-таблица-по-количеству-каждой-группы-станков.-4\"><span class=\"toc-item-num\">4&nbsp;&nbsp;</span>Сводная таблица по количеству каждой группы станков.</a></span></li></ul></div>"
   ]
  },
  {
   "cell_type": "markdown",
   "id": "456cefcc",
   "metadata": {},
   "source": [
    "# Тестовое задание"
   ]
  },
  {
   "cell_type": "markdown",
   "id": "44e6f341",
   "metadata": {},
   "source": [
    "**1. \tСортировка по массе выше 2000 кг за единицу.**  \n",
    "**2.\tСоздать столбец с классификацией по группам станка:**  \n",
    "    Заточные  \n",
    "\tЗубофрезерные  \n",
    "\tЛенточнопильные   \n",
    "\tНе классифицировано  \n",
    "\tОтрезные  \n",
    "\tПильные дисковые  \n",
    "\tРасточные  \n",
    "\tРезьбонарезные  \n",
    "\tСверлильные  \n",
    "\tСтанки-автоматы  \n",
    "\tТокарно-фрезерные  \n",
    "\tТокарные без ЧПУ   \n",
    "\tТокарные с ЧПУ   \n",
    "\tФрезерные без ЧПУ  \n",
    "\tФрезерные ОЦ  \n",
    "\tФрезерные прочие  \n",
    "\tФрезерные с ЧПУ  \n",
    "\tХонинговальные  \n",
    "\tШлифовальные  \n",
    "**3. Свод по количеству каждой группы.**\t"
   ]
  },
  {
   "cell_type": "markdown",
   "id": "6281b4f7",
   "metadata": {},
   "source": [
    "## Общая информация."
   ]
  },
  {
   "cell_type": "code",
   "execution_count": 1,
   "id": "d5424643",
   "metadata": {},
   "outputs": [],
   "source": [
    "# Импорт стандартных библиотек\n",
    "import warnings\n",
    "\n",
    "# Импорт сторонних библиотек\n",
    "import pandas as pd\n",
    "import numpy as np\n",
    "\n",
    "# Отключение ограничения вывода количества строк на экран\n",
    "#pd.set_option('display.max_rows', None)\n",
    "\n",
    "# Отключение предупреждений\n",
    "pd.options.mode.chained_assignment = None\n",
    "warnings.filterwarnings('ignore')"
   ]
  },
  {
   "cell_type": "markdown",
   "id": "09c16dc2",
   "metadata": {},
   "source": [
    "### Считываем данные из CSV-файла в датафрейм и сохраняем в переменную df."
   ]
  },
  {
   "cell_type": "code",
   "execution_count": 2,
   "id": "85785661",
   "metadata": {},
   "outputs": [],
   "source": [
    "df = pd.read_excel('исходные для задания.xlsx')"
   ]
  },
  {
   "cell_type": "markdown",
   "id": "9e60e82d",
   "metadata": {},
   "source": [
    "### Выводим таблицу на экран."
   ]
  },
  {
   "cell_type": "code",
   "execution_count": 3,
   "id": "672753df",
   "metadata": {
    "scrolled": false
   },
   "outputs": [
    {
     "data": {
      "text/html": [
       "<div>\n",
       "<style scoped>\n",
       "    .dataframe tbody tr th:only-of-type {\n",
       "        vertical-align: middle;\n",
       "    }\n",
       "\n",
       "    .dataframe tbody tr th {\n",
       "        vertical-align: top;\n",
       "    }\n",
       "\n",
       "    .dataframe thead th {\n",
       "        text-align: right;\n",
       "    }\n",
       "</style>\n",
       "<table border=\"1\" class=\"dataframe\">\n",
       "  <thead>\n",
       "    <tr style=\"text-align: right;\">\n",
       "      <th></th>\n",
       "      <th>ОПИСАНИЕ_ТОВАРА</th>\n",
       "      <th>КОЛИЧЕСТВО</th>\n",
       "      <th>ВЕС_НЕТТО_КГ</th>\n",
       "    </tr>\n",
       "  </thead>\n",
       "  <tbody>\n",
       "    <tr>\n",
       "      <th>0</th>\n",
       "      <td>ГРУЗ НАХОДИТСЯ В А/М 043AEO09/24ACG09 И ЗАНИМА...</td>\n",
       "      <td>1</td>\n",
       "      <td>1001.09</td>\n",
       "    </tr>\n",
       "    <tr>\n",
       "      <th>1</th>\n",
       "      <td>ГОРИЗОНТАЛЬНЫЙ РАСТОЧНО-ФРЕЗЕРНЫЙ СТАНОК С ЦИФ...</td>\n",
       "      <td>1</td>\n",
       "      <td>35995.00</td>\n",
       "    </tr>\n",
       "    <tr>\n",
       "      <th>2</th>\n",
       "      <td>СТАНКИ МЕТАЛЛООБРАБАТЫВАЮЩИЕ ТОКАРНЫЕ МНОГОЦЕЛ...</td>\n",
       "      <td>1</td>\n",
       "      <td>6000.00</td>\n",
       "    </tr>\n",
       "    <tr>\n",
       "      <th>3</th>\n",
       "      <td>СТАНКИ ТОКАРНЫЕ ГОРИЗОНТАЛЬНЫЕ МНОГОЦЕЛЕВЫЕ МЕ...</td>\n",
       "      <td>2</td>\n",
       "      <td>12300.00</td>\n",
       "    </tr>\n",
       "    <tr>\n",
       "      <th>4</th>\n",
       "      <td>ТОКАРНЫЕ СТАНКИ С ЧИСЛОВЫМ ПРОГРАММНЫМ УПРАВЛЕ...</td>\n",
       "      <td>2</td>\n",
       "      <td>13720.00</td>\n",
       "    </tr>\n",
       "    <tr>\n",
       "      <th>...</th>\n",
       "      <td>...</td>\n",
       "      <td>...</td>\n",
       "      <td>...</td>\n",
       "    </tr>\n",
       "    <tr>\n",
       "      <th>195</th>\n",
       "      <td>ВЕРТИКАЛЬНЫЙ ФРЕЗЕРНЫЙ ОБРАБАТЫВАЮЩИЙ ЦЕНТР С ...</td>\n",
       "      <td>1</td>\n",
       "      <td>6200.00</td>\n",
       "    </tr>\n",
       "    <tr>\n",
       "      <th>196</th>\n",
       "      <td>ПРОЧИЕ СТАНКИ ПЛОСКОШЛИФОВАЛЬНЫЕ С ЧИСЛОВЫМ ПР...</td>\n",
       "      <td>1</td>\n",
       "      <td>2500.00</td>\n",
       "    </tr>\n",
       "    <tr>\n",
       "      <th>197</th>\n",
       "      <td>СТАНОК ОПТИЧЕСКИЙ ПРОФИЛЕШЛИФОВАЛЬНЫЙ С ЧИСЛОВ...</td>\n",
       "      <td>3</td>\n",
       "      <td>13395.00</td>\n",
       "    </tr>\n",
       "    <tr>\n",
       "      <th>198</th>\n",
       "      <td>ЛЕНТОЧНОПИЛЬНЫЙ СТАНОК GS500, ПРЕДНАЗНАЧЕН ДЛЯ...</td>\n",
       "      <td>1</td>\n",
       "      <td>3050.00</td>\n",
       "    </tr>\n",
       "    <tr>\n",
       "      <th>199</th>\n",
       "      <td>СТАНКИ КРУГЛОШЛИФОВАЛЬНЫЕ ГРАЖДАНСКОГО НАЗНАЧЕ...</td>\n",
       "      <td>3</td>\n",
       "      <td>10600.00</td>\n",
       "    </tr>\n",
       "  </tbody>\n",
       "</table>\n",
       "<p>200 rows × 3 columns</p>\n",
       "</div>"
      ],
      "text/plain": [
       "                                       ОПИСАНИЕ_ТОВАРА  КОЛИЧЕСТВО  \\\n",
       "0    ГРУЗ НАХОДИТСЯ В А/М 043AEO09/24ACG09 И ЗАНИМА...           1   \n",
       "1    ГОРИЗОНТАЛЬНЫЙ РАСТОЧНО-ФРЕЗЕРНЫЙ СТАНОК С ЦИФ...           1   \n",
       "2    СТАНКИ МЕТАЛЛООБРАБАТЫВАЮЩИЕ ТОКАРНЫЕ МНОГОЦЕЛ...           1   \n",
       "3    СТАНКИ ТОКАРНЫЕ ГОРИЗОНТАЛЬНЫЕ МНОГОЦЕЛЕВЫЕ МЕ...           2   \n",
       "4    ТОКАРНЫЕ СТАНКИ С ЧИСЛОВЫМ ПРОГРАММНЫМ УПРАВЛЕ...           2   \n",
       "..                                                 ...         ...   \n",
       "195  ВЕРТИКАЛЬНЫЙ ФРЕЗЕРНЫЙ ОБРАБАТЫВАЮЩИЙ ЦЕНТР С ...           1   \n",
       "196  ПРОЧИЕ СТАНКИ ПЛОСКОШЛИФОВАЛЬНЫЕ С ЧИСЛОВЫМ ПР...           1   \n",
       "197  СТАНОК ОПТИЧЕСКИЙ ПРОФИЛЕШЛИФОВАЛЬНЫЙ С ЧИСЛОВ...           3   \n",
       "198  ЛЕНТОЧНОПИЛЬНЫЙ СТАНОК GS500, ПРЕДНАЗНАЧЕН ДЛЯ...           1   \n",
       "199  СТАНКИ КРУГЛОШЛИФОВАЛЬНЫЕ ГРАЖДАНСКОГО НАЗНАЧЕ...           3   \n",
       "\n",
       "     ВЕС_НЕТТО_КГ  \n",
       "0         1001.09  \n",
       "1        35995.00  \n",
       "2         6000.00  \n",
       "3        12300.00  \n",
       "4        13720.00  \n",
       "..            ...  \n",
       "195       6200.00  \n",
       "196       2500.00  \n",
       "197      13395.00  \n",
       "198       3050.00  \n",
       "199      10600.00  \n",
       "\n",
       "[200 rows x 3 columns]"
      ]
     },
     "execution_count": 3,
     "metadata": {},
     "output_type": "execute_result"
    }
   ],
   "source": [
    "df"
   ]
  },
  {
   "cell_type": "markdown",
   "id": "7388a466",
   "metadata": {},
   "source": [
    "### Выводим основную информацию о датафрейме с помощью метода info()."
   ]
  },
  {
   "cell_type": "code",
   "execution_count": 4,
   "id": "dba48761",
   "metadata": {
    "scrolled": false
   },
   "outputs": [
    {
     "name": "stdout",
     "output_type": "stream",
     "text": [
      "<class 'pandas.core.frame.DataFrame'>\n",
      "RangeIndex: 200 entries, 0 to 199\n",
      "Data columns (total 3 columns):\n",
      " #   Column           Non-Null Count  Dtype  \n",
      "---  ------           --------------  -----  \n",
      " 0   ОПИСАНИЕ_ТОВАРА  200 non-null    object \n",
      " 1   КОЛИЧЕСТВО       200 non-null    int64  \n",
      " 2   ВЕС_НЕТТО_КГ     200 non-null    float64\n",
      "dtypes: float64(1), int64(1), object(1)\n",
      "memory usage: 4.8+ KB\n"
     ]
    }
   ],
   "source": [
    "df.info()"
   ]
  },
  {
   "cell_type": "markdown",
   "id": "ebbeb26d",
   "metadata": {},
   "source": [
    "**Замечание:**  С помощью этой команды видны тип данных таблицы, а также количество записей без пропусков."
   ]
  },
  {
   "cell_type": "markdown",
   "id": "9749e030",
   "metadata": {},
   "source": [
    "## Фильтр данных по массе выше 2000 кг за единицу."
   ]
  },
  {
   "cell_type": "code",
   "execution_count": 5,
   "id": "0a282c7d",
   "metadata": {},
   "outputs": [
    {
     "name": "stdout",
     "output_type": "stream",
     "text": [
      "Количество строк после фильтрации: 173\n"
     ]
    }
   ],
   "source": [
    "# Создание столбца с массой на единицу оборудования\n",
    "df['ВЕС_НЕТТО_КГ_ЕД'] = (df['ВЕС_НЕТТО_КГ'] / df['КОЛИЧЕСТВО']).round(2)\n",
    "\n",
    "# Фильтрация данных \n",
    "df = df[df['ВЕС_НЕТТО_КГ_ЕД'] > 2000]\n",
    "\n",
    "# Копия датафрейма для последующей проверки\n",
    "df_2000 = df.copy()\n",
    "\n",
    "# Подсчет записей после фильтрации\n",
    "print(f'Количество строк после фильтрации: {len(df)}')"
   ]
  },
  {
   "cell_type": "markdown",
   "id": "55cca37f",
   "metadata": {},
   "source": [
    "**Замечание:**  В таблице остались данные с массой свыше 2000 кг на единицу оборудования."
   ]
  },
  {
   "cell_type": "markdown",
   "id": "2d5d9b39",
   "metadata": {},
   "source": [
    "## Создание столбца с классификацией станков по группам."
   ]
  },
  {
   "cell_type": "code",
   "execution_count": 6,
   "id": "2b27dbf1",
   "metadata": {},
   "outputs": [
    {
     "data": {
      "text/plain": [
       "155"
      ]
     },
     "execution_count": 6,
     "metadata": {},
     "output_type": "execute_result"
    }
   ],
   "source": [
    "# Подсчет уникальных описаний товаров\n",
    "len(df['ОПИСАНИЕ_ТОВАРА'].str.lower().unique())"
   ]
  },
  {
   "cell_type": "markdown",
   "id": "f78f7751",
   "metadata": {},
   "source": [
    "### Первичная классификация по группам станков."
   ]
  },
  {
   "cell_type": "code",
   "execution_count": 7,
   "id": "63117062",
   "metadata": {},
   "outputs": [],
   "source": [
    "# Словарь для классификации\n",
    "category_keywords = {\n",
    "    'Заточные': ['заточ'],\n",
    "    'Зубофрезерные': ['зубофрез'],\n",
    "    'Ленточнопильные': ['лент', 'пил'],\n",
    "    'Отрезные': ['отрезн'],\n",
    "    'Пильные дисковые': ['диск', 'пил'],\n",
    "    'Хонинговальные': ['хонинг'],\n",
    "    'Шлифовальные': ['шлиф'],\n",
    "    'Токарные': ['токарн'], \n",
    "    'Расточные': ['расточн'],\n",
    "    'Фрезерные': ['фрезерн'],\n",
    "    'Резьбонарезные': ['резьбонарез'],\n",
    "    'Сверлильные': ['сверлильн'],\n",
    "}\n",
    "\n",
    "# Функция для классификации\n",
    "def classify_text(text, categories): \n",
    "    for category, keywords in categories.items():\n",
    "        if all(keyword in text.lower() for keyword in keywords):\n",
    "            return category    \n",
    "    return 'Не классифицировано'"
   ]
  },
  {
   "cell_type": "code",
   "execution_count": 8,
   "id": "19f87185",
   "metadata": {},
   "outputs": [
    {
     "data": {
      "text/plain": [
       "Токарные               76\n",
       "Не классифицировано    42\n",
       "Фрезерные              27\n",
       "Шлифовальные           12\n",
       "Расточные               5\n",
       "Ленточнопильные         4\n",
       "Сверлильные             4\n",
       "Заточные                2\n",
       "Отрезные                1\n",
       "Name: КАТЕГОРИЯ, dtype: int64"
      ]
     },
     "execution_count": 8,
     "metadata": {},
     "output_type": "execute_result"
    }
   ],
   "source": [
    "# Применение классификации\n",
    "df['КАТЕГОРИЯ'] = df['ОПИСАНИЕ_ТОВАРА'].apply(lambda x: classify_text(x, category_keywords))\n",
    "\n",
    "# Подсчет записей по категориям\n",
    "df['КАТЕГОРИЯ'].value_counts()"
   ]
  },
  {
   "cell_type": "markdown",
   "id": "73468eb7",
   "metadata": {},
   "source": [
    "**Замечание:**  Выполнили классификацию без уточнения категорий (ЧПУ и тп.)."
   ]
  },
  {
   "cell_type": "markdown",
   "id": "08364452",
   "metadata": {},
   "source": [
    "### Уточнение классификации."
   ]
  },
  {
   "cell_type": "code",
   "execution_count": 9,
   "id": "a950b89d",
   "metadata": {},
   "outputs": [],
   "source": [
    "# Словарь для уточнения классификации токарных станков\n",
    "turning_keywords = {\n",
    "    'Станки-автоматы': ['автомат ', 'автоматы'],\n",
    "    'Токарно-фрезерные': ['фрез'],\n",
    "    'Токарные без ЧПУ': ['без чпу', 'без числов'],\n",
    "    'Токарные с ЧПУ': ['чпу', 'числов'],\n",
    "}\n",
    "\n",
    "# Функция для классификации токарных станков\n",
    "def classify_text_turning(text, categories): \n",
    "    for category, keywords in categories.items():\n",
    "        if any(keyword in text.lower() for keyword in keywords):\n",
    "            return category    \n",
    "    return 'Токарные без ЧПУ'"
   ]
  },
  {
   "cell_type": "code",
   "execution_count": 10,
   "id": "218ca397",
   "metadata": {},
   "outputs": [],
   "source": [
    "# Уточнение классификации токарных станков\n",
    "df.loc[df['КАТЕГОРИЯ'] == 'Токарные',\n",
    "       'КАТЕГОРИЯ'] = df.loc[df['КАТЕГОРИЯ'] == 'Токарные', \n",
    "                             'ОПИСАНИЕ_ТОВАРА'].apply(lambda x: classify_text_turning(x, turning_keywords))"
   ]
  },
  {
   "cell_type": "code",
   "execution_count": 11,
   "id": "ae8f06be",
   "metadata": {},
   "outputs": [],
   "source": [
    "# Словарь для классификации фрезерных станков\n",
    "milling_keywords = {\n",
    "    'Фрезерные ОЦ': ['центр', 'ОЦ'],\n",
    "    'Фрезерные без ЧПУ': ['без чпу', 'без числов'],\n",
    "    'Фрезерные с ЧПУ': ['чпу', 'числов'],\n",
    "}\n",
    "\n",
    "# Функция для классификации фрезерных станков\n",
    "def classify_text_milling(text, categories): \n",
    "    for category, keywords in categories.items():\n",
    "        if any(keyword in text.lower() for keyword in keywords):\n",
    "            return category    \n",
    "    return 'Фрезерные прочие'"
   ]
  },
  {
   "cell_type": "code",
   "execution_count": 12,
   "id": "b5abf670",
   "metadata": {},
   "outputs": [],
   "source": [
    "# Уточнение классификации фрезерных станков\n",
    "df.loc[df['КАТЕГОРИЯ'] == 'Фрезерные',\n",
    "       'КАТЕГОРИЯ'] = df.loc[df['КАТЕГОРИЯ'] == 'Фрезерные', \n",
    "                             'ОПИСАНИЕ_ТОВАРА'].apply(lambda x: classify_text_milling(x, milling_keywords))"
   ]
  },
  {
   "cell_type": "code",
   "execution_count": 13,
   "id": "79a3da16",
   "metadata": {},
   "outputs": [
    {
     "data": {
      "text/plain": [
       "Токарные с ЧПУ         54\n",
       "Не классифицировано    42\n",
       "Фрезерные ОЦ           20\n",
       "Токарные без ЧПУ       12\n",
       "Шлифовальные           12\n",
       "Токарно-фрезерные       6\n",
       "Расточные               5\n",
       "Станки-автоматы         4\n",
       "Фрезерные с ЧПУ         4\n",
       "Ленточнопильные         4\n",
       "Сверлильные             4\n",
       "Заточные                2\n",
       "Фрезерные прочие        2\n",
       "Отрезные                1\n",
       "Фрезерные без ЧПУ       1\n",
       "Name: КАТЕГОРИЯ, dtype: int64"
      ]
     },
     "execution_count": 13,
     "metadata": {},
     "output_type": "execute_result"
    }
   ],
   "source": [
    "# Подсчет записей по категориям\n",
    "df['КАТЕГОРИЯ'].value_counts()"
   ]
  },
  {
   "cell_type": "markdown",
   "id": "f3ea2edc",
   "metadata": {},
   "source": [
    "**Замечание:**  Осталось 42 записи которые не удалось классифицировать."
   ]
  },
  {
   "cell_type": "markdown",
   "id": "cc3868c9",
   "metadata": {},
   "source": [
    "### Создание словаря."
   ]
  },
  {
   "cell_type": "raw",
   "id": "c5688986",
   "metadata": {},
   "source": [
    "# Загрузка данных в excel файл\n",
    "df[['ОПИСАНИЕ_ТОВАРА', 'КАТЕГОРИЯ']].drop_duplicates().to_excel('Словарь.xlsx', sheet_name='Исходник')"
   ]
  },
  {
   "cell_type": "markdown",
   "id": "d60e10fb",
   "metadata": {},
   "source": [
    "**Замечание:**  Из получившейся таблицы, выделили 2 столбца и записали данные в excel файл.  \n",
    "Далее необходимо вручную проверить не классифицированные записи и если удасться классифицировать некоторые из них, необходимо в файле изменить категорию не классифицированно на наиболее подходящую.\n",
    "Например, можно по модели станка или другому признаку определить некоторые типы станков."
   ]
  },
  {
   "cell_type": "markdown",
   "id": "c0ee1aa1",
   "metadata": {},
   "source": [
    "### Загрузка словаря."
   ]
  },
  {
   "cell_type": "code",
   "execution_count": 14,
   "id": "3669f731",
   "metadata": {},
   "outputs": [],
   "source": [
    "# Загрузка словаря из excel файла\n",
    "dictionary = pd.read_excel('Словарь.xlsx',\n",
    "                           sheet_name='Исходник').drop('Unnamed: 0',\n",
    "                                                       axis=1).set_index('ОПИСАНИЕ_ТОВАРА').to_dict()['КАТЕГОРИЯ']"
   ]
  },
  {
   "cell_type": "markdown",
   "id": "ef5ee126",
   "metadata": {},
   "source": [
    "**Замечание:**  После модификации словаря (если необходимо), загружаем данные.\n",
    "Далее с помощью имеющегося словаря производим классификацию."
   ]
  },
  {
   "cell_type": "code",
   "execution_count": 15,
   "id": "d0dca7c0",
   "metadata": {},
   "outputs": [
    {
     "data": {
      "text/html": [
       "<div>\n",
       "<style scoped>\n",
       "    .dataframe tbody tr th:only-of-type {\n",
       "        vertical-align: middle;\n",
       "    }\n",
       "\n",
       "    .dataframe tbody tr th {\n",
       "        vertical-align: top;\n",
       "    }\n",
       "\n",
       "    .dataframe thead th {\n",
       "        text-align: right;\n",
       "    }\n",
       "</style>\n",
       "<table border=\"1\" class=\"dataframe\">\n",
       "  <thead>\n",
       "    <tr style=\"text-align: right;\">\n",
       "      <th></th>\n",
       "      <th>ОПИСАНИЕ_ТОВАРА</th>\n",
       "      <th>КОЛИЧЕСТВО</th>\n",
       "      <th>ВЕС_НЕТТО_КГ</th>\n",
       "      <th>ВЕС_НЕТТО_КГ_ЕД</th>\n",
       "    </tr>\n",
       "  </thead>\n",
       "  <tbody>\n",
       "    <tr>\n",
       "      <th>1</th>\n",
       "      <td>ГОРИЗОНТАЛЬНЫЙ РАСТОЧНО-ФРЕЗЕРНЫЙ СТАНОК С ЦИФ...</td>\n",
       "      <td>1</td>\n",
       "      <td>35995.0</td>\n",
       "      <td>35995.0</td>\n",
       "    </tr>\n",
       "    <tr>\n",
       "      <th>2</th>\n",
       "      <td>СТАНКИ МЕТАЛЛООБРАБАТЫВАЮЩИЕ ТОКАРНЫЕ МНОГОЦЕЛ...</td>\n",
       "      <td>1</td>\n",
       "      <td>6000.0</td>\n",
       "      <td>6000.0</td>\n",
       "    </tr>\n",
       "    <tr>\n",
       "      <th>3</th>\n",
       "      <td>СТАНКИ ТОКАРНЫЕ ГОРИЗОНТАЛЬНЫЕ МНОГОЦЕЛЕВЫЕ МЕ...</td>\n",
       "      <td>2</td>\n",
       "      <td>12300.0</td>\n",
       "      <td>6150.0</td>\n",
       "    </tr>\n",
       "    <tr>\n",
       "      <th>4</th>\n",
       "      <td>ТОКАРНЫЕ СТАНКИ С ЧИСЛОВЫМ ПРОГРАММНЫМ УПРАВЛЕ...</td>\n",
       "      <td>2</td>\n",
       "      <td>13720.0</td>\n",
       "      <td>6860.0</td>\n",
       "    </tr>\n",
       "    <tr>\n",
       "      <th>6</th>\n",
       "      <td>МЕТАЛЛООБРАБАТЫВАЮЩИЙ ТОКАРНЫЙ СТАНОК С ЧПУ, М...</td>\n",
       "      <td>1</td>\n",
       "      <td>4000.0</td>\n",
       "      <td>4000.0</td>\n",
       "    </tr>\n",
       "  </tbody>\n",
       "</table>\n",
       "</div>"
      ],
      "text/plain": [
       "                                     ОПИСАНИЕ_ТОВАРА  КОЛИЧЕСТВО  \\\n",
       "1  ГОРИЗОНТАЛЬНЫЙ РАСТОЧНО-ФРЕЗЕРНЫЙ СТАНОК С ЦИФ...           1   \n",
       "2  СТАНКИ МЕТАЛЛООБРАБАТЫВАЮЩИЕ ТОКАРНЫЕ МНОГОЦЕЛ...           1   \n",
       "3  СТАНКИ ТОКАРНЫЕ ГОРИЗОНТАЛЬНЫЕ МНОГОЦЕЛЕВЫЕ МЕ...           2   \n",
       "4  ТОКАРНЫЕ СТАНКИ С ЧИСЛОВЫМ ПРОГРАММНЫМ УПРАВЛЕ...           2   \n",
       "6  МЕТАЛЛООБРАБАТЫВАЮЩИЙ ТОКАРНЫЙ СТАНОК С ЧПУ, М...           1   \n",
       "\n",
       "   ВЕС_НЕТТО_КГ  ВЕС_НЕТТО_КГ_ЕД  \n",
       "1       35995.0          35995.0  \n",
       "2        6000.0           6000.0  \n",
       "3       12300.0           6150.0  \n",
       "4       13720.0           6860.0  \n",
       "6        4000.0           4000.0  "
      ]
     },
     "execution_count": 15,
     "metadata": {},
     "output_type": "execute_result"
    }
   ],
   "source": [
    "# Вывод 5 верхних строк исходных данных после фильтрации\n",
    "df_2000.head()"
   ]
  },
  {
   "cell_type": "code",
   "execution_count": 16,
   "id": "94669f10",
   "metadata": {},
   "outputs": [],
   "source": [
    "# Классификация предварительно сохраненного файла с помощью имеющегося словаря\n",
    "df_2000['КАТЕГОРИЯ'] = df_2000['ОПИСАНИЕ_ТОВАРА'].map(dictionary)"
   ]
  },
  {
   "cell_type": "code",
   "execution_count": 17,
   "id": "e8e4872c",
   "metadata": {},
   "outputs": [
    {
     "data": {
      "text/plain": [
       "Токарные с ЧПУ         54\n",
       "Не классифицировано    35\n",
       "Фрезерные ОЦ           24\n",
       "Токарные без ЧПУ       12\n",
       "Шлифовальные           12\n",
       "Расточные               8\n",
       "Токарно-фрезерные       6\n",
       "Станки-автоматы         4\n",
       "Фрезерные с ЧПУ         4\n",
       "Ленточнопильные         4\n",
       "Сверлильные             4\n",
       "Заточные                2\n",
       "Фрезерные прочие        2\n",
       "Отрезные                1\n",
       "Фрезерные без ЧПУ       1\n",
       "Name: КАТЕГОРИЯ, dtype: int64"
      ]
     },
     "execution_count": 17,
     "metadata": {},
     "output_type": "execute_result"
    }
   ],
   "source": [
    "df_2000['КАТЕГОРИЯ'].value_counts()"
   ]
  },
  {
   "cell_type": "markdown",
   "id": "2a13d7aa",
   "metadata": {},
   "source": [
    "**Замечание:**  Количество не классифицированных данных уменьшилось до 35. Для этого в `excel-файле` вручную были внесены правки в ловарь (экспертная оценка)."
   ]
  },
  {
   "cell_type": "raw",
   "id": "7bd5af94",
   "metadata": {},
   "source": [
    "# Запись обработанных данных в excel-файл\n",
    "df_2000.to_excel('Обработанные данные.xlsx', sheet_name='Обработанные')"
   ]
  },
  {
   "cell_type": "markdown",
   "id": "8bcf1f1b",
   "metadata": {},
   "source": [
    "**Замечание:**  Далее можно в excel создать сводную таблицу или провести группировку с помощью формулы `СУМЕСЛИ()`для отображения групп без данных."
   ]
  },
  {
   "cell_type": "markdown",
   "id": "906311fa",
   "metadata": {},
   "source": [
    "**Рекомендация:**  \n",
    "В дальнейшем при получении новых данных после классификации с помощью словаря, для не классифицированных случаев необходимо применить шаги 3.1 и 3.2. После этого добавить новые данные в словарь."
   ]
  },
  {
   "cell_type": "markdown",
   "id": "1448f466",
   "metadata": {},
   "source": [
    "## Сводная таблица по количеству каждой группы станков."
   ]
  },
  {
   "cell_type": "code",
   "execution_count": 18,
   "id": "ce26cd4a",
   "metadata": {},
   "outputs": [],
   "source": [
    "# Создание таблицы с категорями станков\n",
    "categories = pd.DataFrame(\n",
    "    ['Заточные',\n",
    "     'Зубофрезерные',\n",
    "     'Ленточнопильные',\n",
    "     'Не классифицировано',\n",
    "     'Отрезные',\n",
    "     'Пильные дисковые',\n",
    "     'Расточные',\n",
    "     'Резьбонарезные',\n",
    "     'Сверлильные',\n",
    "     'Станки-автоматы',\n",
    "     'Токарно-фрезерные',\n",
    "     'Токарные без ЧПУ',\n",
    "     'Токарные с ЧПУ',\n",
    "     'Фрезерные без ЧПУ',\n",
    "     'Фрезерные ОЦ',\n",
    "     'Фрезерные прочие',\n",
    "     'Фрезерные с ЧПУ',\n",
    "     'Хонинговальные',\n",
    "     'Шлифовальные'\n",
    "    ]\n",
    ")\n",
    "categories.columns = ['КАТЕГОРИЯ']\n",
    "\n",
    "# Группировка данных\n",
    "group_data = pd.DataFrame(df_2000.groupby('КАТЕГОРИЯ')['КОЛИЧЕСТВО'].sum().reset_index())"
   ]
  },
  {
   "cell_type": "code",
   "execution_count": 19,
   "id": "8854b9eb",
   "metadata": {},
   "outputs": [
    {
     "data": {
      "text/html": [
       "<div>\n",
       "<style scoped>\n",
       "    .dataframe tbody tr th:only-of-type {\n",
       "        vertical-align: middle;\n",
       "    }\n",
       "\n",
       "    .dataframe tbody tr th {\n",
       "        vertical-align: top;\n",
       "    }\n",
       "\n",
       "    .dataframe thead th {\n",
       "        text-align: right;\n",
       "    }\n",
       "</style>\n",
       "<table border=\"1\" class=\"dataframe\">\n",
       "  <thead>\n",
       "    <tr style=\"text-align: right;\">\n",
       "      <th></th>\n",
       "      <th>КАТЕГОРИЯ</th>\n",
       "      <th>КОЛИЧЕСТВО</th>\n",
       "    </tr>\n",
       "  </thead>\n",
       "  <tbody>\n",
       "    <tr>\n",
       "      <th>0</th>\n",
       "      <td>Заточные</td>\n",
       "      <td>3</td>\n",
       "    </tr>\n",
       "    <tr>\n",
       "      <th>1</th>\n",
       "      <td>Зубофрезерные</td>\n",
       "      <td>0</td>\n",
       "    </tr>\n",
       "    <tr>\n",
       "      <th>2</th>\n",
       "      <td>Ленточнопильные</td>\n",
       "      <td>8</td>\n",
       "    </tr>\n",
       "    <tr>\n",
       "      <th>3</th>\n",
       "      <td>Не классифицировано</td>\n",
       "      <td>71</td>\n",
       "    </tr>\n",
       "    <tr>\n",
       "      <th>4</th>\n",
       "      <td>Отрезные</td>\n",
       "      <td>1</td>\n",
       "    </tr>\n",
       "    <tr>\n",
       "      <th>5</th>\n",
       "      <td>Пильные дисковые</td>\n",
       "      <td>0</td>\n",
       "    </tr>\n",
       "    <tr>\n",
       "      <th>6</th>\n",
       "      <td>Расточные</td>\n",
       "      <td>10</td>\n",
       "    </tr>\n",
       "    <tr>\n",
       "      <th>7</th>\n",
       "      <td>Резьбонарезные</td>\n",
       "      <td>0</td>\n",
       "    </tr>\n",
       "    <tr>\n",
       "      <th>8</th>\n",
       "      <td>Сверлильные</td>\n",
       "      <td>8</td>\n",
       "    </tr>\n",
       "    <tr>\n",
       "      <th>9</th>\n",
       "      <td>Станки-автоматы</td>\n",
       "      <td>13</td>\n",
       "    </tr>\n",
       "    <tr>\n",
       "      <th>10</th>\n",
       "      <td>Токарно-фрезерные</td>\n",
       "      <td>14</td>\n",
       "    </tr>\n",
       "    <tr>\n",
       "      <th>11</th>\n",
       "      <td>Токарные без ЧПУ</td>\n",
       "      <td>26</td>\n",
       "    </tr>\n",
       "    <tr>\n",
       "      <th>12</th>\n",
       "      <td>Токарные с ЧПУ</td>\n",
       "      <td>119</td>\n",
       "    </tr>\n",
       "    <tr>\n",
       "      <th>13</th>\n",
       "      <td>Фрезерные без ЧПУ</td>\n",
       "      <td>1</td>\n",
       "    </tr>\n",
       "    <tr>\n",
       "      <th>14</th>\n",
       "      <td>Фрезерные ОЦ</td>\n",
       "      <td>46</td>\n",
       "    </tr>\n",
       "    <tr>\n",
       "      <th>15</th>\n",
       "      <td>Фрезерные прочие</td>\n",
       "      <td>3</td>\n",
       "    </tr>\n",
       "    <tr>\n",
       "      <th>16</th>\n",
       "      <td>Фрезерные с ЧПУ</td>\n",
       "      <td>4</td>\n",
       "    </tr>\n",
       "    <tr>\n",
       "      <th>17</th>\n",
       "      <td>Хонинговальные</td>\n",
       "      <td>0</td>\n",
       "    </tr>\n",
       "    <tr>\n",
       "      <th>18</th>\n",
       "      <td>Шлифовальные</td>\n",
       "      <td>23</td>\n",
       "    </tr>\n",
       "  </tbody>\n",
       "</table>\n",
       "</div>"
      ],
      "text/plain": [
       "              КАТЕГОРИЯ  КОЛИЧЕСТВО\n",
       "0              Заточные           3\n",
       "1         Зубофрезерные           0\n",
       "2       Ленточнопильные           8\n",
       "3   Не классифицировано          71\n",
       "4              Отрезные           1\n",
       "5      Пильные дисковые           0\n",
       "6             Расточные          10\n",
       "7        Резьбонарезные           0\n",
       "8           Сверлильные           8\n",
       "9       Станки-автоматы          13\n",
       "10    Токарно-фрезерные          14\n",
       "11     Токарные без ЧПУ          26\n",
       "12       Токарные с ЧПУ         119\n",
       "13    Фрезерные без ЧПУ           1\n",
       "14         Фрезерные ОЦ          46\n",
       "15     Фрезерные прочие           3\n",
       "16      Фрезерные с ЧПУ           4\n",
       "17       Хонинговальные           0\n",
       "18         Шлифовальные          23"
      ]
     },
     "execution_count": 19,
     "metadata": {},
     "output_type": "execute_result"
    }
   ],
   "source": [
    "# Объединение таблиц\n",
    "categories_count = categories.merge(group_data, how='left', on='КАТЕГОРИЯ').fillna(0)\n",
    "categories_count['КОЛИЧЕСТВО'] = categories_count['КОЛИЧЕСТВО'].astype('int')\n",
    "categories_count"
   ]
  },
  {
   "cell_type": "raw",
   "id": "ace3a870",
   "metadata": {},
   "source": [
    "# Запись результата в Excel-файл\n",
    "categories_count.to_excel('Сводная.xlsx', sheet_name='Сводная')"
   ]
  },
  {
   "cell_type": "markdown",
   "id": "9439e4c6",
   "metadata": {},
   "source": [
    "**Замечание:**  Для того, чтобы отображались категории без данных, создали таблицу категорий и объединили её со сводной таблицей по имеющимся данным."
   ]
  },
  {
   "cell_type": "code",
   "execution_count": 66,
   "id": "fe27a776",
   "metadata": {},
   "outputs": [
    {
     "name": "stdout",
     "output_type": "stream",
     "text": [
      "None\n"
     ]
    }
   ],
   "source": [
    "print(['1', '5'].append('3'))"
   ]
  },
  {
   "cell_type": "code",
   "execution_count": 78,
   "id": "58c5f7c7",
   "metadata": {},
   "outputs": [
    {
     "name": "stdout",
     "output_type": "stream",
     "text": [
      "None\n",
      "[1, 2, 3, 4.5, 5]\n"
     ]
    }
   ],
   "source": [
    "my_list = [1, 2, 3]\n",
    "print(my_list.extend([4.5,5]))\n",
    "print(my_list)"
   ]
  },
  {
   "cell_type": "code",
   "execution_count": 82,
   "id": "b65572a7",
   "metadata": {},
   "outputs": [
    {
     "name": "stdout",
     "output_type": "stream",
     "text": [
      "[]\n"
     ]
    }
   ],
   "source": [
    "a = []\n",
    "b = ['dog', 'cat']\n",
    "[].extend(b)\n",
    "\n",
    "print(a)"
   ]
  },
  {
   "cell_type": "code",
   "execution_count": null,
   "id": "6de0285d",
   "metadata": {},
   "outputs": [],
   "source": []
  }
 ],
 "metadata": {
  "kernelspec": {
   "display_name": "Python 3 (ipykernel)",
   "language": "python",
   "name": "python3"
  },
  "language_info": {
   "codemirror_mode": {
    "name": "ipython",
    "version": 3
   },
   "file_extension": ".py",
   "mimetype": "text/x-python",
   "name": "python",
   "nbconvert_exporter": "python",
   "pygments_lexer": "ipython3",
   "version": "3.9.13"
  },
  "toc": {
   "base_numbering": 1,
   "nav_menu": {},
   "number_sections": true,
   "sideBar": true,
   "skip_h1_title": true,
   "title_cell": "Table of Contents",
   "title_sidebar": "Contents",
   "toc_cell": true,
   "toc_position": {},
   "toc_section_display": true,
   "toc_window_display": false
  }
 },
 "nbformat": 4,
 "nbformat_minor": 5
}
